{
 "cells": [
  {
   "cell_type": "code",
   "execution_count": 1,
   "metadata": {},
   "outputs": [],
   "source": [
    "%load_ext autoreload\n",
    "%autoreload 2\n",
    "import models\n",
    "import orca\n",
    "from urbansim.maps import dframe_explorer"
   ]
  },
  {
   "cell_type": "code",
   "execution_count": 2,
   "metadata": {},
   "outputs": [
    {
     "name": "stdout",
     "output_type": "stream",
     "text": [
      "Filling column residential_sales_price with value 0 (14196 values)\n",
      "Filling column non_residential_rent with value 0 (142400 values)\n",
      "Filling column residential_units with value 0 (0 values)\n",
      "Filling column non_residential_sqft with value 0 (1341 values)\n",
      "Filling column year_built with value 1927.0 (3116 values)\n",
      "Filling column building_type_id with value 2.0 (0 values)\n",
      "Filling column job_category with value service (331 values)\n"
     ]
    }
   ],
   "source": [
    "d = {tbl: orca.get_table(tbl).to_frame() for tbl in ['zones']}"
   ]
  },
  {
   "cell_type": "code",
   "execution_count": null,
   "metadata": {},
   "outputs": [
    {
     "name": "stderr",
     "output_type": "stream",
     "text": [
      "Bottle v0.12.17 server starting up (using WSGIRefServer())...\n",
      "Listening on http://localhost:8765/\n",
      "Hit Ctrl-C to quit.\n",
      "\n",
      "C:\\BrownFieldDev\\sanfran_urbansim-master\\urbansim\\maps\\dframe_explorer.py:60: ResourceWarning: unclosed file <_io.TextIOWrapper name='C:\\\\BrownFieldDev\\\\sanfran_urbansim-master\\\\urbansim\\\\maps\\\\dframe_explorer.html' mode='r' encoding='cp1252'>\n",
      "  index = open(os.path.join(dir, 'dframe_explorer.html')).read()\n",
      "127.0.0.1 - - [23/Oct/2019 10:40:50] \"GET / HTTP/1.1\" 200 27478\n"
     ]
    },
    {
     "name": "stdout",
     "output_type": "stream",
     "text": [
      "df.groupby('zone_id')['tract'].mean()\n"
     ]
    },
    {
     "name": "stderr",
     "output_type": "stream",
     "text": [
      "Traceback (most recent call last):\n",
      "  File \"c:\\users\\harrison freund\\appdata\\local\\programs\\python\\python36\\lib\\site-packages\\bottle.py\", line 862, in _handle\n",
      "    return route.call(**args)\n",
      "  File \"c:\\users\\harrison freund\\appdata\\local\\programs\\python\\python36\\lib\\site-packages\\bottle.py\", line 1742, in wrapper\n",
      "    rv = callback(*a, **ka)\n",
      "  File \"C:\\BrownFieldDev\\sanfran_urbansim-master\\urbansim\\maps\\dframe_explorer.py\", line 44, in map_query\n",
      "    results = eval(cmd)\n",
      "  File \"<string>\", line 1, in <module>\n",
      "  File \"c:\\users\\harrison freund\\appdata\\local\\programs\\python\\python36\\lib\\site-packages\\pandas\\core\\generic.py\", line 7894, in groupby\n",
      "    **kwargs\n",
      "  File \"c:\\users\\harrison freund\\appdata\\local\\programs\\python\\python36\\lib\\site-packages\\pandas\\core\\groupby\\groupby.py\", line 2522, in groupby\n",
      "    return klass(obj, by, **kwds)\n",
      "  File \"c:\\users\\harrison freund\\appdata\\local\\programs\\python\\python36\\lib\\site-packages\\pandas\\core\\groupby\\groupby.py\", line 391, in __init__\n",
      "    mutated=self.mutated,\n",
      "  File \"c:\\users\\harrison freund\\appdata\\local\\programs\\python\\python36\\lib\\site-packages\\pandas\\core\\groupby\\grouper.py\", line 615, in _get_grouper\n",
      "    obj._check_label_or_level_ambiguity(gpr)\n",
      "  File \"c:\\users\\harrison freund\\appdata\\local\\programs\\python\\python36\\lib\\site-packages\\pandas\\core\\generic.py\", line 1729, in _check_label_or_level_ambiguity\n",
      "    raise ValueError(msg)\n",
      "ValueError: 'zone_id' is both an index level and a column label, which is ambiguous.\n",
      "127.0.0.1 - - [23/Oct/2019 10:40:57] \"GET /map_query/zones/empty/zone_id/tract/mean() HTTP/1.1\" 500 2601\n"
     ]
    },
    {
     "name": "stdout",
     "output_type": "stream",
     "text": [
      "df.groupby('zone_id')['zone_id'].mean()\n"
     ]
    }
   ],
   "source": [
    "dframe_explorer.start(d, \n",
    "        center=[37.7792, -122.2191],\n",
    "        zoom=11,\n",
    "        shape_json='data/zones.json',\n",
    "        geom_name='ZONE_ID', # from JSON file\n",
    "        join_name='zone_id', # from data frames\n",
    "        precision=2)"
   ]
  },
  {
   "cell_type": "markdown",
   "metadata": {},
   "source": [
    "[Click here to navigate maps](http://localhost:8765/)"
   ]
  },
  {
   "cell_type": "code",
   "execution_count": null,
   "metadata": {},
   "outputs": [],
   "source": []
  }
 ],
 "metadata": {
  "kernelspec": {
   "display_name": "Python 3",
   "language": "python",
   "name": "python3"
  },
  "language_info": {
   "codemirror_mode": {
    "name": "ipython",
    "version": 3
   },
   "file_extension": ".py",
   "mimetype": "text/x-python",
   "name": "python",
   "nbconvert_exporter": "python",
   "pygments_lexer": "ipython3",
   "version": "3.6.0"
  }
 },
 "nbformat": 4,
 "nbformat_minor": 1
}
