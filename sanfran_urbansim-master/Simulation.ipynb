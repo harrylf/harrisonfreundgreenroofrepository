{
 "cells": [
  {
   "cell_type": "code",
   "execution_count": 1,
   "metadata": {
    "collapsed": true
   },
   "outputs": [],
   "source": [
    "# %load_ext autoreload\n",
    "# %autoreload 2\n",
    "import models, utils\n",
    "import orca"
   ]
  },
  {
   "cell_type": "code",
   "execution_count": 2,
   "metadata": {
    "collapsed": false,
    "scrolled": false
   },
   "outputs": [
    {
     "name": "stdout",
     "output_type": "stream",
     "text": [
      "Running iteration 1 with iteration value 2010\n",
      "Running step 'rsh_simulate'\n",
      "Filling column residential_units with value 0 (0 values)\n",
      "Filling column non_residential_rent with value 0 (142400 values)\n",
      "Filling column non_residential_sqft with value 0 (1341 values)\n",
      "Filling column year_built with value 1927.0 (3116 values)\n",
      "Filling column residential_sales_price with value 0 (14196 values)\n",
      "Filling column building_type_id with value 2.0 (0 values)\n",
      "count    1.407800e+05\n",
      "mean     1.156971e+03\n",
      "std      4.150325e+04\n",
      "min      2.067312e-03\n",
      "25%      2.527275e+02\n",
      "50%      3.799935e+02\n",
      "75%      5.542447e+02\n",
      "max      1.250703e+07\n",
      "dtype: float64\n",
      "Time to execute step 'rsh_simulate': 1.02 s\n",
      "Running step 'nrh_simulate'\n",
      "Filling column job_category with value service (331 values)\n",
      "count    10803.000000\n",
      "mean        20.729909\n",
      "std          6.833292\n",
      "min          6.258496\n",
      "25%         17.431477\n",
      "50%         20.908725\n",
      "75%         25.077906\n",
      "max         47.266957\n",
      "dtype: float64\n",
      "Time to execute step 'nrh_simulate': 1.16 s\n",
      "Running step 'households_relocation'\n",
      "Total agents: 345588\n",
      "Total currently unplaced: 0\n",
      "Assinging for relocation...\n",
      "Total currently unplaced: 17279\n",
      "Time to execute step 'households_relocation': 0.10 s\n",
      "Running step 'hlcm_simulate'\n",
      "There are 374133 total available units\n",
      "    and 345588 total choosers\n",
      "    but there are 42994 overfull buildings\n",
      "    for a total of 109425 temporarily empty units\n",
      "    in 50926 buildings total in the region\n",
      "Assigned 17279 choosers to new units\n",
      "Total currently unplaced: 0\n",
      "    and there are now 28545.0 empty units    and 42993 overfull buildings\n",
      "Time to execute step 'hlcm_simulate': 2.16 s\n",
      "Running step 'households_transition'\n",
      "345588 agents before transition\n",
      "362867 agents after transition\n",
      "Time to execute step 'households_transition': 0.12 s\n",
      "Running step 'jobs_relocation'\n",
      "Total agents: 225439\n",
      "Total currently unplaced: 0\n",
      "Assinging for relocation...\n",
      "Total currently unplaced: 11271\n",
      "Time to execute step 'jobs_relocation': 0.05 s\n",
      "Running step 'elcm_simulate'\n",
      "There are 642004 total available units\n",
      "    and 225439 total choosers\n",
      "    but there are 14688 overfull buildings\n",
      "    for a total of 543901 temporarily empty units\n",
      "    in 8505 buildings total in the region\n",
      "Assigned 11271 choosers to new units\n",
      "Total currently unplaced: 0\n",
      "    and there are now 416565.0 empty units    and 14687 overfull buildings\n",
      "Time to execute step 'elcm_simulate': 2.26 s\n",
      "Running step 'jobs_transition'\n",
      "225439 agents before transition\n",
      "236711 agents after transition\n",
      "Time to execute step 'jobs_transition': 0.08 s\n",
      "Running step 'feasibility'\n"
     ]
    },
    {
     "name": "stderr",
     "output_type": "stream",
     "text": [
      "C:\\Users\\Harrison Freund\\Anaconda3\\lib\\site-packages\\urbansim\\developer\\sqftproforma.py:394: SettingWithCopyWarning: \n",
      "A value is trying to be set on a copy of a slice from a DataFrame\n",
      "\n",
      "See the caveats in the documentation: http://pandas.pydata.org/pandas-docs/stable/indexing.html#indexing-view-versus-copy\n",
      "  df['ave_cost_sqft'][c.fars > c.max_industrial_height] = np.nan\n",
      "C:\\Users\\Harrison Freund\\Anaconda3\\lib\\site-packages\\urbansim\\developer\\sqftproforma.py:392: SettingWithCopyWarning: \n",
      "A value is trying to be set on a copy of a slice from a DataFrame\n",
      "\n",
      "See the caveats in the documentation: http://pandas.pydata.org/pandas-docs/stable/indexing.html#indexing-view-versus-copy\n",
      "  df['ave_cost_sqft'][c.fars > c.max_retail_height] = np.nan\n"
     ]
    },
    {
     "name": "stdout",
     "output_type": "stream",
     "text": [
      "Describe of the yearly rent by use\n",
      "              retail    industrial         office    residential\n",
      "count  152205.000000  94493.000000  152259.000000  153228.000000\n",
      "mean       23.867557      8.650493      21.274562      19.306885\n",
      "std         3.553082      1.641869       2.979941       5.179699\n",
      "min        18.000000      6.000000      16.000000       1.150000\n",
      "25%              NaN           NaN            NaN            NaN\n",
      "50%              NaN           NaN            NaN            NaN\n",
      "75%              NaN           NaN            NaN            NaN\n",
      "max        35.000000     14.500000      31.000000      40.550000\n",
      "Computing feasibility for form industrial\n",
      "Computing feasibility for form office\n"
     ]
    },
    {
     "name": "stderr",
     "output_type": "stream",
     "text": [
      "C:\\Users\\Harrison Freund\\Anaconda3\\lib\\site-packages\\numpy\\lib\\function_base.py:3834: RuntimeWarning: Invalid value encountered in percentile\n",
      "  RuntimeWarning)\n"
     ]
    },
    {
     "name": "stdout",
     "output_type": "stream",
     "text": [
      "Computing feasibility for form residential\n",
      "Computing feasibility for form mixedresidential\n",
      "Computing feasibility for form mixedoffice\n",
      "Computing feasibility for form retail\n",
      "Time to execute step 'feasibility': 3.38 s\n",
      "Running step 'residential_developer'\n",
      "Number of agents: 362,867\n",
      "Number of agent spaces: 374,133\n",
      "Current vacancy = 0.03\n",
      "Target vacancy = 0.15, target of new units = 52,769\n",
      "4,217 feasible buildings before running developer\n",
      "Sum of net units that are profitable: 45,822\n",
      "WARNING THERE WERE NOT ENOUGH PROFITABLE UNITS TO MATCH DEMAND\n",
      "Adding 2,557 buildings with 52,280 residential_units\n",
      "1,660 feasible buildings after running developer\n",
      "Time to execute step 'residential_developer': 0.37 s\n",
      "Running step 'non_residential_developer'\n",
      "Number of agents: 236,711\n",
      "Number of agent spaces: 642,004\n",
      "Current vacancy = 0.63\n",
      "Target vacancy = 0.15, target of new units = 0\n",
      "1,660 feasible buildings before running developer\n",
      "Sum of net units that are profitable: 95,189\n",
      "Adding 0 buildings with 0 job_spaces\n",
      "1,660 feasible buildings after running developer\n",
      "Time to execute step 'non_residential_developer': 0.38 s\n",
      "Total time to execute iteration 1 with iteration value 2010: 11.07 s\n"
     ]
    }
   ],
   "source": [
    "orca.run([\n",
    "    \"rsh_simulate\",              # residential sales hedonic\n",
    "    \"nrh_simulate\",              # non-residential rent hedonic\n",
    "\n",
    "    \"households_relocation\",     # households relocation model\n",
    "    \"hlcm_simulate\",            # households location choice\n",
    "    \"households_transition\",     # households transition\n",
    "\n",
    "    \"jobs_relocation\",           # jobs relocation model\n",
    "    \"elcm_simulate\",             # employment location choice\n",
    "    \"jobs_transition\",           # jobs transition\n",
    "\n",
    "    \"feasibility\",               # compute development feasibility\n",
    "    \"residential_developer\",     # build residential buildings\n",
    "    \"non_residential_developer\", # build non-residential buildings\n",
    "], iter_vars=[2010])"
   ]
  },
  {
   "cell_type": "code",
   "execution_count": 2,
   "metadata": {
    "collapsed": false
   },
   "outputs": [],
   "source": []
  }
 ],
 "metadata": {
  "anaconda-cloud": {},
  "kernelspec": {
   "display_name": "Python [conda root]",
   "language": "python",
   "name": "conda-root-py"
  },
  "language_info": {
   "codemirror_mode": {
    "name": "ipython",
    "version": 3
   },
   "file_extension": ".py",
   "mimetype": "text/x-python",
   "name": "python",
   "nbconvert_exporter": "python",
   "pygments_lexer": "ipython3",
   "version": "3.5.2"
  }
 },
 "nbformat": 4,
 "nbformat_minor": 0
}
