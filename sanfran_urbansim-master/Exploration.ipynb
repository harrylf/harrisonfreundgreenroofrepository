{
 "cells": [
  {
   "cell_type": "code",
   "execution_count": 1,
   "metadata": {
    "collapsed": false
   },
   "outputs": [],
   "source": [
    "%load_ext autoreload\n",
    "%autoreload 2\n",
    "import models\n",
    "import orca\n",
    "from urbansim.maps import dframe_explorer"
   ]
  },
  {
   "cell_type": "code",
   "execution_count": 2,
   "metadata": {
    "collapsed": false
   },
   "outputs": [
    {
     "name": "stdout",
     "output_type": "stream",
     "text": [
      "Filling column residential_sales_price with value 0 (14196 values)\n",
      "Filling column year_built with value 1927.0 (3116 values)\n",
      "Filling column non_residential_rent with value 0 (142400 values)\n",
      "Filling column building_type_id with value 2.0 (0 values)\n",
      "Filling column residential_units with value 0 (0 values)\n",
      "Filling column non_residential_sqft with value 0 (1341 values)\n",
      "Filling column job_category with value service (331 values)\n"
     ]
    }
   ],
   "source": [
    "d = {tbl: orca.get_table(tbl).to_frame() for tbl in ['buildings', 'jobs', 'households', 'zones', 'zones_prices']}"
   ]
  },
  {
   "cell_type": "code",
   "execution_count": null,
   "metadata": {
    "collapsed": false
   },
   "outputs": [
    {
     "name": "stderr",
     "output_type": "stream",
     "text": [
      "Bottle v0.12.13 server starting up (using WSGIRefServer())...\n",
      "Listening on http://localhost:8765/\n",
      "Hit Ctrl-C to quit.\n",
      "\n",
      "C:\\Users\\Harrison Freund\\Anaconda3\\lib\\site-packages\\urbansim\\maps\\dframe_explorer.py:60: ResourceWarning: unclosed file <_io.TextIOWrapper name='C:\\\\Users\\\\Harrison Freund\\\\Anaconda3\\\\lib\\\\site-packages\\\\urbansim\\\\maps\\\\dframe_explorer.html' mode='r' encoding='cp1252'>\n",
      "  index = open(os.path.join(dir, 'dframe_explorer.html')).read()\n",
      "127.0.0.1 - - [24/Aug/2017 12:37:24] \"GET / HTTP/1.1\" 200 28075\n",
      "127.0.0.1 - - [24/Aug/2017 12:37:26] \"GET /data/zones.json HTTP/1.1\" 304 0\n",
      "127.0.0.1 - - [24/Aug/2017 12:37:28] \"GET /favicon.ico HTTP/1.1\" 404 742\n"
     ]
    },
    {
     "name": "stdout",
     "output_type": "stream",
     "text": [
      "df.groupby('zone_id')['gid'].mean()\n"
     ]
    },
    {
     "name": "stderr",
     "output_type": "stream",
     "text": [
      "127.0.0.1 - - [24/Aug/2017 12:37:33] \"GET /map_query/zones/empty/zone_id/gid/mean() HTTP/1.1\" 200 18142\n"
     ]
    },
    {
     "name": "stdout",
     "output_type": "stream",
     "text": [
      "df.groupby('zone_id')['area'].mean()\n"
     ]
    },
    {
     "name": "stderr",
     "output_type": "stream",
     "text": [
      "127.0.0.1 - - [24/Aug/2017 12:37:41] \"GET /map_query/zones/empty/zone_id/area/mean() HTTP/1.1\" 200 28085\n"
     ]
    },
    {
     "name": "stdout",
     "output_type": "stream",
     "text": [
      "df.groupby('zone_id')['acres'].mean()\n"
     ]
    },
    {
     "name": "stderr",
     "output_type": "stream",
     "text": [
      "127.0.0.1 - - [24/Aug/2017 12:38:02] \"GET /map_query/zones/empty/zone_id/acres/mean() HTTP/1.1\" 200 38426\n"
     ]
    }
   ],
   "source": [
    "dframe_explorer.start(d, \n",
    "        center=[37.7792, -122.2191],\n",
    "        zoom=11,\n",
    "        shape_json='data/zones.json',\n",
    "        geom_name='ZONE_ID', # from JSON file\n",
    "        join_name='zone_id', # from data frames\n",
    "        precision=2)"
   ]
  },
  {
   "cell_type": "markdown",
   "metadata": {},
   "source": [
    "[Click here to navigate maps](http://localhost:8765/)"
   ]
  },
  {
   "cell_type": "code",
   "execution_count": null,
   "metadata": {
    "collapsed": false
   },
   "outputs": [],
   "source": []
  }
 ],
 "metadata": {
  "anaconda-cloud": {},
  "kernelspec": {
   "display_name": "Python [conda root]",
   "language": "python",
   "name": "conda-root-py"
  },
  "language_info": {
   "codemirror_mode": {
    "name": "ipython",
    "version": 3
   },
   "file_extension": ".py",
   "mimetype": "text/x-python",
   "name": "python",
   "nbconvert_exporter": "python",
   "pygments_lexer": "ipython3",
   "version": "3.5.2"
  }
 },
 "nbformat": 4,
 "nbformat_minor": 0
}
