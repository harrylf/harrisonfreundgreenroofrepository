{
 "cells": [
  {
   "cell_type": "code",
   "execution_count": 2,
   "metadata": {
    "collapsed": false
   },
   "outputs": [],
   "source": [
    "%load_ext autoreload\n",
    "%autoreload 2\n",
    "import models\n",
    "import orca\n",
    "import pandas as pd\n",
    "pd.options.mode.chained_assignment = None"
   ]
  },
  {
   "cell_type": "markdown",
   "metadata": {},
   "source": [
    "## Hedonic Estimation"
   ]
  },
  {
   "cell_type": "code",
   "execution_count": 7,
   "metadata": {
    "collapsed": false
   },
   "outputs": [
    {
     "name": "stdout",
     "output_type": "stream",
     "text": [
      "Running step 'rsh_estimate'\n",
      "                                    OLS Regression Results                                   \n",
      "=============================================================================================\n",
      "Dep. Variable:     np.log1p(residential_sales_price)   R-squared:                       0.691\n",
      "Model:                                           OLS   Adj. R-squared:                  0.691\n",
      "Method:                                Least Squares   F-statistic:                 4.179e+04\n",
      "Date:                               Thu, 29 Mar 2018   Prob (F-statistic):               0.00\n",
      "Time:                                       14:28:23   Log-Likelihood:            -1.9772e+05\n",
      "No. Observations:                             149409   AIC:                         3.955e+05\n",
      "Df Residuals:                                 149400   BIC:                         3.955e+05\n",
      "Df Model:                                          8                                         \n",
      "Covariance Type:                           nonrobust                                         \n",
      "================================================================================================\n",
      "                                   coef    std err          t      P>|t|      [0.025      0.975]\n",
      "------------------------------------------------------------------------------------------------\n",
      "Intercept                       -6.8734      0.118    -58.362      0.000      -7.104      -6.643\n",
      "I(year_built < 1940)[T.True]     0.0501      0.005      9.720      0.000       0.040       0.060\n",
      "I(year_built > 2005)[T.True]    -0.2338      0.034     -6.926      0.000      -0.300      -0.168\n",
      "np.log1p(unit_sqft)             -1.8047      0.005   -370.184      0.000      -1.814      -1.795\n",
      "np.log1p(unit_lot_size)         -0.3303      0.004    -74.924      0.000      -0.339      -0.322\n",
      "sum_residential_units            0.0925      0.006     16.211      0.000       0.081       0.104\n",
      "ave_lot_sqft                    -0.1023      0.007    -14.407      0.000      -0.116      -0.088\n",
      "ave_unit_sqft                    1.1096      0.014     78.218      0.000       1.082       1.137\n",
      "ave_income                       1.8170      0.011    171.387      0.000       1.796       1.838\n",
      "==============================================================================\n",
      "Omnibus:                   136968.531   Durbin-Watson:                   1.855\n",
      "Prob(Omnibus):                  0.000   Jarque-Bera (JB):          4217112.829\n",
      "Skew:                          -4.587   Prob(JB):                         0.00\n",
      "Kurtosis:                      27.357   Cond. No.                     1.01e+03\n",
      "==============================================================================\n",
      "\n",
      "Warnings:\n",
      "[1] Standard Errors assume that the covariance matrix of the errors is correctly specified.\n",
      "[2] The condition number is large, 1.01e+03. This might indicate that there are\n",
      "strong multicollinearity or other numerical problems.\n",
      "Time to execute step 'rsh_estimate': 1.03 s\n",
      "Total time to execute iteration 1 with iteration value None: 1.03 s\n"
     ]
    }
   ],
   "source": [
    "orca.run([\"rsh_estimate\"])"
   ]
  },
  {
   "cell_type": "code",
   "execution_count": 4,
   "metadata": {
    "collapsed": false
   },
   "outputs": [
    {
     "name": "stdout",
     "output_type": "stream",
     "text": [
      "Running step 'rsh_estimate'\n",
      "                                    OLS Regression Results                                   \n",
      "=============================================================================================\n",
      "Dep. Variable:     np.log1p(residential_sales_price)   R-squared:                       0.399\n",
      "Model:                                           OLS   Adj. R-squared:                  0.399\n",
      "Method:                                Least Squares   F-statistic:                 1.240e+04\n",
      "Date:                               Thu, 29 Mar 2018   Prob (F-statistic):               0.00\n",
      "Time:                                       14:27:06   Log-Likelihood:            -2.5241e+05\n",
      "No. Observations:                             149409   AIC:                         5.048e+05\n",
      "Df Residuals:                                 149400   BIC:                         5.049e+05\n",
      "Df Model:                                          8                                         \n",
      "Covariance Type:                           nonrobust                                         \n",
      "================================================================================================\n",
      "                                   coef    std err          t      P>|t|      [0.025      0.975]\n",
      "------------------------------------------------------------------------------------------------\n",
      "Intercept                       -3.8638      0.170    -22.751      0.000      -4.197      -3.531\n",
      "I(year_built < 1940)[T.True]     0.0012      0.007      0.160      0.873      -0.013       0.016\n",
      "I(year_built > 2005)[T.True]    -0.0633      0.049     -1.300      0.194      -0.159       0.032\n",
      "np.log1p(unit_sqft)             -1.4830      0.007   -210.948      0.000      -1.497      -1.469\n",
      "np.log1p(unit_lot_size)         -0.1476      0.006    -23.224      0.000      -0.160      -0.135\n",
      "sum_residential_units            0.0987      0.008     11.987      0.000       0.083       0.115\n",
      "ave_lot_sqft                    -0.2177      0.010    -21.273      0.000      -0.238      -0.198\n",
      "ave_unit_sqft                    0.9371      0.020     45.808      0.000       0.897       0.977\n",
      "ave_income                       1.4191      0.015     92.819      0.000       1.389       1.449\n",
      "==============================================================================\n",
      "Omnibus:                    89684.695   Durbin-Watson:                   1.798\n",
      "Prob(Omnibus):                  0.000   Jarque-Bera (JB):           820175.061\n",
      "Skew:                          -2.842   Prob(JB):                         0.00\n",
      "Kurtosis:                      12.972   Cond. No.                     1.01e+03\n",
      "==============================================================================\n",
      "\n",
      "Warnings:\n",
      "[1] Standard Errors assume that the covariance matrix of the errors is correctly specified.\n",
      "[2] The condition number is large, 1.01e+03. This might indicate that there are\n",
      "strong multicollinearity or other numerical problems.\n",
      "Time to execute step 'rsh_estimate': 1.00 s\n",
      "Total time to execute iteration 1 with iteration value None: 1.00 s\n"
     ]
    }
   ],
   "source": [
    "orca.run([\"rsh_estimate\"])"
   ]
  },
  {
   "cell_type": "code",
   "execution_count": 5,
   "metadata": {
    "collapsed": false,
    "scrolled": false
   },
   "outputs": [
    {
     "name": "stdout",
     "output_type": "stream",
     "text": [
      "Running step 'nrh_estimate'\n",
      "Filling column job_category with value service (331 values)\n",
      "REGRESSION RESULTS FOR SEGMENT Office\n",
      "\n",
      "                                  OLS Regression Results                                  \n",
      "==========================================================================================\n",
      "Dep. Variable:     np.log1p(non_residential_rent)   R-squared:                       0.066\n",
      "Model:                                        OLS   Adj. R-squared:                  0.064\n",
      "Method:                             Least Squares   F-statistic:                     51.14\n",
      "Date:                            Thu, 29 Mar 2018   Prob (F-statistic):           2.16e-51\n",
      "Time:                                    14:27:12   Log-Likelihood:                -4021.6\n",
      "No. Observations:                            3653   AIC:                             8055.\n",
      "Df Residuals:                                3647   BIC:                             8092.\n",
      "Df Model:                                       5                                         \n",
      "Covariance Type:                        nonrobust                                         \n",
      "================================================================================================\n",
      "                                   coef    std err          t      P>|t|      [0.025      0.975]\n",
      "------------------------------------------------------------------------------------------------\n",
      "Intercept                        4.1593      0.321     12.975      0.000       3.531       4.788\n",
      "I(year_built < 1940)[T.True]    -0.3156      0.027    -11.908      0.000      -0.368      -0.264\n",
      "I(year_built > 2005)[T.True]    -0.0238      0.119     -0.201      0.841      -0.256       0.209\n",
      "np.log1p(stories)                0.1750      0.024      7.183      0.000       0.127       0.223\n",
      "ave_income                      -0.0719      0.025     -2.853      0.004      -0.121      -0.022\n",
      "jobs                            -0.0429      0.013     -3.201      0.001      -0.069      -0.017\n",
      "==============================================================================\n",
      "Omnibus:                     2697.682   Durbin-Watson:                   1.827\n",
      "Prob(Omnibus):                  0.000   Jarque-Bera (JB):            29985.208\n",
      "Skew:                          -3.650   Prob(JB):                         0.00\n",
      "Kurtosis:                      14.988   Cond. No.                         348.\n",
      "==============================================================================\n",
      "\n",
      "Warnings:\n",
      "[1] Standard Errors assume that the covariance matrix of the errors is correctly specified.\n",
      "REGRESSION RESULTS FOR SEGMENT Industrial\n",
      "\n",
      "                                  OLS Regression Results                                  \n",
      "==========================================================================================\n",
      "Dep. Variable:     np.log1p(non_residential_rent)   R-squared:                       0.105\n",
      "Model:                                        OLS   Adj. R-squared:                  0.103\n",
      "Method:                             Least Squares   F-statistic:                     59.66\n",
      "Date:                            Thu, 29 Mar 2018   Prob (F-statistic):           6.48e-59\n",
      "Time:                                    14:27:12   Log-Likelihood:                -2035.1\n",
      "No. Observations:                            2558   AIC:                             4082.\n",
      "Df Residuals:                                2552   BIC:                             4117.\n",
      "Df Model:                                       5                                         \n",
      "Covariance Type:                        nonrobust                                         \n",
      "================================================================================================\n",
      "                                   coef    std err          t      P>|t|      [0.025      0.975]\n",
      "------------------------------------------------------------------------------------------------\n",
      "Intercept                        3.7205      0.309     12.025      0.000       3.114       4.327\n",
      "I(year_built < 1940)[T.True]    -0.3186      0.023    -13.995      0.000      -0.363      -0.274\n",
      "I(year_built > 2005)[T.True]    -0.0483      0.101     -0.479      0.632      -0.246       0.150\n",
      "np.log1p(stories)                0.3851      0.042      9.187      0.000       0.303       0.467\n",
      "ave_income                      -0.1826      0.027     -6.852      0.000      -0.235      -0.130\n",
      "jobs                             0.0605      0.012      4.981      0.000       0.037       0.084\n",
      "==============================================================================\n",
      "Omnibus:                     1781.535   Durbin-Watson:                   1.817\n",
      "Prob(Omnibus):                  0.000   Jarque-Bera (JB):            17978.361\n",
      "Skew:                          -3.372   Prob(JB):                         0.00\n",
      "Kurtosis:                      14.099   Cond. No.                         385.\n",
      "==============================================================================\n",
      "\n",
      "Warnings:\n",
      "[1] Standard Errors assume that the covariance matrix of the errors is correctly specified.\n",
      "REGRESSION RESULTS FOR SEGMENT Retail\n",
      "\n",
      "                                  OLS Regression Results                                  \n",
      "==========================================================================================\n",
      "Dep. Variable:     np.log1p(non_residential_rent)   R-squared:                       0.046\n",
      "Model:                                        OLS   Adj. R-squared:                  0.045\n",
      "Method:                             Least Squares   F-statistic:                     43.81\n",
      "Date:                            Thu, 29 Mar 2018   Prob (F-statistic):           2.83e-44\n",
      "Time:                                    14:27:12   Log-Likelihood:                -5334.2\n",
      "No. Observations:                            4592   AIC:                         1.068e+04\n",
      "Df Residuals:                                4586   BIC:                         1.072e+04\n",
      "Df Model:                                       5                                         \n",
      "Covariance Type:                        nonrobust                                         \n",
      "================================================================================================\n",
      "                                   coef    std err          t      P>|t|      [0.025      0.975]\n",
      "------------------------------------------------------------------------------------------------\n",
      "Intercept                        3.9704      0.331     11.986      0.000       3.321       4.620\n",
      "I(year_built < 1940)[T.True]    -0.3253      0.025    -12.869      0.000      -0.375      -0.276\n",
      "I(year_built > 2005)[T.True]    -0.1107      0.104     -1.067      0.286      -0.314       0.093\n",
      "np.log1p(stories)                0.2327      0.037      6.311      0.000       0.160       0.305\n",
      "ave_income                      -0.0483      0.026     -1.874      0.061      -0.099       0.002\n",
      "jobs                            -0.0367      0.014     -2.688      0.007      -0.063      -0.010\n",
      "==============================================================================\n",
      "Omnibus:                     3246.917   Durbin-Watson:                   1.731\n",
      "Prob(Omnibus):                  0.000   Jarque-Bera (JB):            32590.849\n",
      "Skew:                          -3.490   Prob(JB):                         0.00\n",
      "Kurtosis:                      14.028   Cond. No.                         374.\n",
      "==============================================================================\n",
      "\n",
      "Warnings:\n",
      "[1] Standard Errors assume that the covariance matrix of the errors is correctly specified.\n",
      "Time to execute step 'nrh_estimate': 1.22 s\n",
      "Total time to execute iteration 1 with iteration value None: 1.22 s\n"
     ]
    }
   ],
   "source": [
    "orca.run([\"nrh_estimate\"])"
   ]
  },
  {
   "cell_type": "markdown",
   "metadata": {},
   "source": [
    "## Hedonic Simulation"
   ]
  },
  {
   "cell_type": "code",
   "execution_count": 6,
   "metadata": {
    "collapsed": false
   },
   "outputs": [
    {
     "name": "stdout",
     "output_type": "stream",
     "text": [
      "Running step 'rsh_simulate'\n",
      "count    1.407800e+05\n",
      "mean     1.156971e+03\n",
      "std      4.150325e+04\n",
      "min      2.067312e-03\n",
      "25%      2.527275e+02\n",
      "50%      3.799935e+02\n",
      "75%      5.542447e+02\n",
      "max      1.250703e+07\n",
      "dtype: float64\n",
      "Time to execute step 'rsh_simulate': 0.93 s\n",
      "Running step 'nrh_simulate'\n",
      "count    10803.000000\n",
      "mean        20.729909\n",
      "std          6.833292\n",
      "min          6.258496\n",
      "25%         17.431477\n",
      "50%         20.908725\n",
      "75%         25.077906\n",
      "max         47.266957\n",
      "dtype: float64\n",
      "Time to execute step 'nrh_simulate': 0.47 s\n",
      "Total time to execute iteration 1 with iteration value None: 1.41 s\n"
     ]
    }
   ],
   "source": [
    "orca.run([\"rsh_simulate\", \"nrh_simulate\"])"
   ]
  },
  {
   "cell_type": "markdown",
   "metadata": {},
   "source": [
    "## LCM Estimation"
   ]
  },
  {
   "cell_type": "code",
   "execution_count": 5,
   "metadata": {
    "collapsed": false,
    "scrolled": false
   },
   "outputs": [
    {
     "name": "stdout",
     "output_type": "stream",
     "text": [
      "Running step 'hlcm_estimate'\n",
      "LCM RESULTS FOR SEGMENT 0\n",
      "\n",
      "Null Log-liklihood: -13815.511\n",
      "Log-liklihood at convergence: -11457.725\n",
      "Log-liklihood Ratio: 0.171\n",
      "\n",
      "+-----------------------------------+-------------+------------+---------+\n",
      "| Component                         | Coefficient | Std. Error | T-Score |\n",
      "+-----------------------------------+-------------+------------+---------+\n",
      "| np.log1p(residential_sales_price) |    1.649    |   0.079    |  20.966 |\n",
      "| np.log1p(unit_sqft)               |    2.100    |   0.115    |  18.272 |\n",
      "| sum_residential_units             |    0.073    |   0.110    |  0.661  |\n",
      "| ave_unit_sqft                     |    -1.187   |   0.111    | -10.660 |\n",
      "| ave_lot_sqft                      |    0.405    |   0.040    |  10.024 |\n",
      "| ave_income                        |    -2.292   |   0.116    | -19.832 |\n",
      "| hhsize                            |    -0.872   |   0.145    |  -6.031 |\n",
      "| jobs                              |    -0.021   |   0.033    |  -0.641 |\n",
      "| sfdu                              |    -0.063   |   0.019    |  -3.306 |\n",
      "| renters                           |    -0.398   |   0.038    | -10.568 |\n",
      "| poor                              |    1.272    |   0.089    |  14.372 |\n",
      "| population                        |    -0.737   |   0.126    |  -5.829 |\n",
      "+-----------------------------------+-------------+------------+---------+\n",
      "LCM RESULTS FOR SEGMENT 1\n",
      "\n",
      "Null Log-liklihood: -13815.511\n",
      "Log-liklihood at convergence: -12545.651\n",
      "Log-liklihood Ratio: 0.092\n",
      "\n",
      "+-----------------------------------+-------------+------------+---------+\n",
      "| Component                         | Coefficient | Std. Error | T-Score |\n",
      "+-----------------------------------+-------------+------------+---------+\n",
      "| np.log1p(residential_sales_price) |    2.065    |   0.064    |  32.516 |\n",
      "| np.log1p(unit_sqft)               |    2.600    |   0.090    |  28.946 |\n",
      "| sum_residential_units             |    -0.150   |   0.112    |  -1.339 |\n",
      "| ave_unit_sqft                     |    -1.556   |   0.125    | -12.468 |\n",
      "| ave_lot_sqft                      |    0.307    |   0.043    |  7.105  |\n",
      "| ave_income                        |    -2.076   |   0.108    | -19.160 |\n",
      "| hhsize                            |    -0.300   |   0.143    |  -2.093 |\n",
      "| jobs                              |    0.014    |   0.032    |  0.418  |\n",
      "| sfdu                              |    -0.009   |   0.019    |  -0.459 |\n",
      "| renters                           |    -0.566   |   0.044    | -12.761 |\n",
      "| poor                              |    0.767    |   0.089    |  8.639  |\n",
      "| population                        |    -0.006   |   0.144    |  -0.041 |\n",
      "+-----------------------------------+-------------+------------+---------+\n",
      "LCM RESULTS FOR SEGMENT 2\n",
      "\n",
      "Null Log-liklihood: -13815.511\n",
      "Log-liklihood at convergence: -12992.896\n",
      "Log-liklihood Ratio: 0.060\n",
      "\n",
      "+-----------------------------------+-------------+------------+---------+\n",
      "| Component                         | Coefficient | Std. Error | T-Score |\n",
      "+-----------------------------------+-------------+------------+---------+\n",
      "| np.log1p(residential_sales_price) |    2.103    |   0.057    |  37.214 |\n",
      "| np.log1p(unit_sqft)               |    2.603    |   0.078    |  33.445 |\n",
      "| sum_residential_units             |    -0.014   |   0.116    |  -0.123 |\n",
      "| ave_unit_sqft                     |    -1.790   |   0.130    | -13.740 |\n",
      "| ave_lot_sqft                      |    0.391    |   0.047    |  8.328  |\n",
      "| ave_income                        |    -1.740   |   0.109    | -15.947 |\n",
      "| hhsize                            |    -0.171   |   0.143    |  -1.191 |\n",
      "| jobs                              |    0.058    |   0.032    |  1.836  |\n",
      "| sfdu                              |    -0.002   |   0.020    |  -0.101 |\n",
      "| renters                           |    -0.464   |   0.052    |  -8.939 |\n",
      "| poor                              |    0.353    |   0.093    |  3.806  |\n",
      "| population                        |    0.302    |   0.161    |  1.875  |\n",
      "+-----------------------------------+-------------+------------+---------+\n",
      "LCM RESULTS FOR SEGMENT 3\n",
      "\n",
      "Null Log-liklihood: -13815.511\n",
      "Log-liklihood at convergence: -13103.106\n",
      "Log-liklihood Ratio: 0.052\n",
      "\n",
      "+-----------------------------------+-------------+------------+---------+\n",
      "| Component                         | Coefficient | Std. Error | T-Score |\n",
      "+-----------------------------------+-------------+------------+---------+\n",
      "| np.log1p(residential_sales_price) |    2.349    |   0.064    |  36.929 |\n",
      "| np.log1p(unit_sqft)               |    3.000    |   0.091    |  32.897 |\n",
      "| sum_residential_units             |    -0.439   |   0.121    |  -3.616 |\n",
      "| ave_unit_sqft                     |    -1.804   |   0.126    | -14.298 |\n",
      "| ave_lot_sqft                      |    0.339    |   0.054    |  6.329  |\n",
      "| ave_income                        |    -1.642   |   0.106    | -15.450 |\n",
      "| hhsize                            |    -0.958   |   0.145    |  -6.596 |\n",
      "| jobs                              |    0.055    |   0.031    |  1.762  |\n",
      "| sfdu                              |    -0.023   |   0.020    |  -1.166 |\n",
      "| renters                           |    -0.267   |   0.068    |  -3.951 |\n",
      "| poor                              |    0.282    |   0.099    |  2.859  |\n",
      "| population                        |    0.326    |   0.185    |  1.758  |\n",
      "+-----------------------------------+-------------+------------+---------+\n",
      "Time to execute step 'hlcm_estimate': 18.86 s\n",
      "Total time to execute iteration 1 with iteration value None: 18.86 s\n"
     ]
    }
   ],
   "source": [
    "orca.run([\"hlcm_estimate\"])"
   ]
  },
  {
   "cell_type": "code",
   "execution_count": 6,
   "metadata": {
    "collapsed": false,
    "scrolled": false
   },
   "outputs": [
    {
     "name": "stdout",
     "output_type": "stream",
     "text": [
      "Running step 'elcm_estimate'\n",
      "LCM RESULTS FOR SEGMENT service\n",
      "\n",
      "Null Log-liklihood: -15666.789\n",
      "Log-liklihood at convergence: -12585.542\n",
      "Log-liklihood Ratio: 0.197\n",
      "\n",
      "+--------------------------------+-------------+------------+---------+\n",
      "| Component                      | Coefficient | Std. Error | T-Score |\n",
      "+--------------------------------+-------------+------------+---------+\n",
      "| np.log1p(non_residential_rent) |    1.569    |   0.053    |  29.725 |\n",
      "| sum_job_spaces                 |    -0.351   |   0.047    |  -7.432 |\n",
      "| sum_residential_units          |    0.046    |   0.052    |  0.875  |\n",
      "| ave_unit_sqft                  |    0.024    |   0.019    |  1.319  |\n",
      "| ave_lot_sqft                   |    0.004    |   0.030    |  0.131  |\n",
      "| ave_income                     |    -0.207   |   0.039    |  -5.325 |\n",
      "| hhsize                         |    -0.981   |   0.148    |  -6.618 |\n",
      "| jobs                           |    1.122    |   0.049    |  22.813 |\n",
      "| poor                           |    -0.242   |   0.031    |  -7.792 |\n",
      "+--------------------------------+-------------+------------+---------+\n",
      "LCM RESULTS FOR SEGMENT retail\n",
      "\n",
      "Null Log-liklihood: -14791.807\n",
      "Log-liklihood at convergence: -13554.224\n",
      "Log-liklihood Ratio: 0.084\n",
      "\n",
      "+--------------------------------+-------------+------------+---------+\n",
      "| Component                      | Coefficient | Std. Error | T-Score |\n",
      "+--------------------------------+-------------+------------+---------+\n",
      "| np.log1p(non_residential_rent) |    1.419    |   0.053    |  27.014 |\n",
      "| sum_job_spaces                 |    0.085    |   0.046    |  1.840  |\n",
      "| sum_residential_units          |    -0.206   |   0.060    |  -3.408 |\n",
      "| ave_unit_sqft                  |    -0.035   |   0.027    |  -1.283 |\n",
      "| ave_lot_sqft                   |    0.090    |   0.035    |  2.556  |\n",
      "| ave_income                     |    0.651    |   0.043    |  15.286 |\n",
      "| hhsize                         |    -0.904   |   0.143    |  -6.302 |\n",
      "| jobs                           |    0.687    |   0.054    |  12.766 |\n",
      "| poor                           |    0.168    |   0.036    |  4.620  |\n",
      "+--------------------------------+-------------+------------+---------+\n",
      "LCM RESULTS FOR SEGMENT industrial\n",
      "\n",
      "Null Log-liklihood: -17149.654\n",
      "Log-liklihood at convergence: -14766.872\n",
      "Log-liklihood Ratio: 0.139\n",
      "\n",
      "+--------------------------------+-------------+------------+---------+\n",
      "| Component                      | Coefficient | Std. Error | T-Score |\n",
      "+--------------------------------+-------------+------------+---------+\n",
      "| np.log1p(non_residential_rent) |    0.416    |   0.043    |  9.776  |\n",
      "| sum_job_spaces                 |    -0.183   |   0.043    |  -4.226 |\n",
      "| sum_residential_units          |    0.158    |   0.052    |  3.049  |\n",
      "| ave_unit_sqft                  |    0.134    |   0.023    |  5.802  |\n",
      "| ave_lot_sqft                   |    0.479    |   0.029    |  16.404 |\n",
      "| ave_income                     |    -0.144   |   0.039    |  -3.745 |\n",
      "| hhsize                         |    0.119    |   0.118    |  1.005  |\n",
      "| jobs                           |    0.615    |   0.046    |  13.282 |\n",
      "| poor                           |    -0.383   |   0.030    | -12.950 |\n",
      "+--------------------------------+-------------+------------+---------+\n",
      "LCM RESULTS FOR SEGMENT agriculture\n",
      "\n",
      "Null Log-liklihood: -990.112\n",
      "Log-liklihood at convergence: -684.995\n",
      "Log-liklihood Ratio: 0.308\n",
      "\n",
      "+--------------------------------+-------------+------------+---------+\n",
      "| Component                      | Coefficient | Std. Error | T-Score |\n",
      "+--------------------------------+-------------+------------+---------+\n",
      "| np.log1p(non_residential_rent) |    0.866    |   0.241    |  3.594  |\n",
      "| sum_job_spaces                 |    -0.792   |   0.300    |  -2.640 |\n",
      "| sum_residential_units          |    0.559    |   0.291    |  1.922  |\n",
      "| ave_unit_sqft                  |    -0.583   |   0.087    |  -6.667 |\n",
      "| ave_lot_sqft                   |    0.439    |   0.179    |  2.458  |\n",
      "| ave_income                     |    -0.001   |   0.244    |  -0.005 |\n",
      "| hhsize                         |    -0.532   |   0.729    |  -0.730 |\n",
      "| jobs                           |    1.547    |   0.314    |  4.918  |\n",
      "| poor                           |    -0.471   |   0.155    |  -3.048 |\n",
      "+--------------------------------+-------------+------------+---------+\n",
      "Time to execute step 'elcm_estimate': 8.75 s\n",
      "Total time to execute iteration 1 with iteration value None: 8.75 s\n"
     ]
    }
   ],
   "source": [
    "orca.run([\"elcm_estimate\"])"
   ]
  },
  {
   "cell_type": "code",
   "execution_count": null,
   "metadata": {
    "collapsed": false
   },
   "outputs": [],
   "source": []
  },
  {
   "cell_type": "code",
   "execution_count": null,
   "metadata": {
    "collapsed": true
   },
   "outputs": [],
   "source": []
  }
 ],
 "metadata": {
  "anaconda-cloud": {},
  "kernelspec": {
   "display_name": "Python [conda root]",
   "language": "python",
   "name": "conda-root-py"
  },
  "language_info": {
   "codemirror_mode": {
    "name": "ipython",
    "version": 3
   },
   "file_extension": ".py",
   "mimetype": "text/x-python",
   "name": "python",
   "nbconvert_exporter": "python",
   "pygments_lexer": "ipython3",
   "version": "3.5.2"
  }
 },
 "nbformat": 4,
 "nbformat_minor": 0
}
