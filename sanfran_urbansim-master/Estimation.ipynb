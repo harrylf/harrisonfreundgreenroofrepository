{
 "cells": [
  {
   "cell_type": "code",
   "execution_count": 1,
   "metadata": {
    "collapsed": false
   },
   "outputs": [],
   "source": [
    "%load_ext autoreload\n",
    "%autoreload 2\n",
    "import models\n",
    "import orca\n",
    "import pandas as pd\n",
    "pd.options.mode.chained_assignment = None"
   ]
  },
  {
   "cell_type": "markdown",
   "metadata": {},
   "source": [
    "## Hedonic Estimation"
   ]
  },
  {
   "cell_type": "code",
   "execution_count": 11,
   "metadata": {
    "collapsed": false
   },
   "outputs": [
    {
     "name": "stdout",
     "output_type": "stream",
     "text": [
      "Running step 'rsh_estimate'\n",
      "                                    OLS Regression Results                                   \n",
      "=============================================================================================\n",
      "Dep. Variable:     np.log1p(residential_sales_price)   R-squared:                       0.691\n",
      "Model:                                           OLS   Adj. R-squared:                  0.691\n",
      "Method:                                Least Squares   F-statistic:                 4.179e+04\n",
      "Date:                               Thu, 01 Mar 2018   Prob (F-statistic):               0.00\n",
      "Time:                                       12:53:32   Log-Likelihood:            -1.9772e+05\n",
      "No. Observations:                             149409   AIC:                         3.955e+05\n",
      "Df Residuals:                                 149400   BIC:                         3.955e+05\n",
      "Df Model:                                          8                                         \n",
      "Covariance Type:                           nonrobust                                         \n",
      "================================================================================================\n",
      "                                   coef    std err          t      P>|t|      [0.025      0.975]\n",
      "------------------------------------------------------------------------------------------------\n",
      "Intercept                       -6.8734      0.118    -58.362      0.000      -7.104      -6.643\n",
      "I(year_built < 1940)[T.True]     0.0501      0.005      9.720      0.000       0.040       0.060\n",
      "I(year_built > 2005)[T.True]    -0.2338      0.034     -6.926      0.000      -0.300      -0.168\n",
      "np.log1p(unit_sqft)             -1.8047      0.005   -370.184      0.000      -1.814      -1.795\n",
      "np.log1p(unit_lot_size)         -0.3303      0.004    -74.924      0.000      -0.339      -0.322\n",
      "sum_residential_units            0.0925      0.006     16.211      0.000       0.081       0.104\n",
      "ave_lot_sqft                    -0.1023      0.007    -14.407      0.000      -0.116      -0.088\n",
      "ave_unit_sqft                    1.1096      0.014     78.218      0.000       1.082       1.137\n",
      "ave_income                       1.8170      0.011    171.387      0.000       1.796       1.838\n",
      "==============================================================================\n",
      "Omnibus:                   136968.531   Durbin-Watson:                   1.855\n",
      "Prob(Omnibus):                  0.000   Jarque-Bera (JB):          4217112.829\n",
      "Skew:                          -4.587   Prob(JB):                         0.00\n",
      "Kurtosis:                      27.357   Cond. No.                     1.01e+03\n",
      "==============================================================================\n",
      "\n",
      "Warnings:\n",
      "[1] Standard Errors assume that the covariance matrix of the errors is correctly specified.\n",
      "[2] The condition number is large, 1.01e+03. This might indicate that there are\n",
      "strong multicollinearity or other numerical problems.\n",
      "Time to execute step 'rsh_estimate': 1.46 s\n",
      "Total time to execute iteration 1 with iteration value None: 1.46 s\n"
     ]
    }
   ],
   "source": [
    "orca.run([\"rsh_estimate\"])"
   ]
  },
  {
   "cell_type": "code",
   "execution_count": 9,
   "metadata": {
    "collapsed": false
   },
   "outputs": [
    {
     "name": "stdout",
     "output_type": "stream",
     "text": [
      "Running step 'rsh_estimate'\n",
      "                                    OLS Regression Results                                   \n",
      "=============================================================================================\n",
      "Dep. Variable:     np.log1p(residential_sales_price)   R-squared:                       0.691\n",
      "Model:                                           OLS   Adj. R-squared:                  0.691\n",
      "Method:                                Least Squares   F-statistic:                 4.179e+04\n",
      "Date:                               Thu, 01 Mar 2018   Prob (F-statistic):               0.00\n",
      "Time:                                       12:28:32   Log-Likelihood:            -1.9772e+05\n",
      "No. Observations:                             149409   AIC:                         3.955e+05\n",
      "Df Residuals:                                 149400   BIC:                         3.955e+05\n",
      "Df Model:                                          8                                         \n",
      "Covariance Type:                           nonrobust                                         \n",
      "================================================================================================\n",
      "                                   coef    std err          t      P>|t|      [0.025      0.975]\n",
      "------------------------------------------------------------------------------------------------\n",
      "Intercept                       -6.8734      0.118    -58.362      0.000      -7.104      -6.643\n",
      "I(year_built < 1940)[T.True]     0.0501      0.005      9.720      0.000       0.040       0.060\n",
      "I(year_built > 2005)[T.True]    -0.2338      0.034     -6.926      0.000      -0.300      -0.168\n",
      "np.log1p(unit_sqft)             -1.8047      0.005   -370.184      0.000      -1.814      -1.795\n",
      "np.log1p(unit_lot_size)         -0.3303      0.004    -74.924      0.000      -0.339      -0.322\n",
      "sum_residential_units            0.0925      0.006     16.211      0.000       0.081       0.104\n",
      "ave_lot_sqft                    -0.1023      0.007    -14.407      0.000      -0.116      -0.088\n",
      "ave_unit_sqft                    1.1096      0.014     78.218      0.000       1.082       1.137\n",
      "ave_income                       1.8170      0.011    171.387      0.000       1.796       1.838\n",
      "==============================================================================\n",
      "Omnibus:                   136968.531   Durbin-Watson:                   1.855\n",
      "Prob(Omnibus):                  0.000   Jarque-Bera (JB):          4217112.829\n",
      "Skew:                          -4.587   Prob(JB):                         0.00\n",
      "Kurtosis:                      27.357   Cond. No.                     1.01e+03\n",
      "==============================================================================\n",
      "\n",
      "Warnings:\n",
      "[1] Standard Errors assume that the covariance matrix of the errors is correctly specified.\n",
      "[2] The condition number is large, 1.01e+03. This might indicate that there are\n",
      "strong multicollinearity or other numerical problems.\n",
      "Time to execute step 'rsh_estimate': 1.34 s\n",
      "Total time to execute iteration 1 with iteration value None: 1.34 s\n"
     ]
    }
   ],
   "source": [
    "orca.run([\"rsh_estimate\"])"
   ]
  },
  {
   "cell_type": "code",
   "execution_count": 12,
   "metadata": {
    "collapsed": false,
    "scrolled": false
   },
   "outputs": [
    {
     "name": "stdout",
     "output_type": "stream",
     "text": [
      "Running step 'nrh_estimate'\n",
      "REGRESSION RESULTS FOR SEGMENT Industrial\n",
      "\n",
      "                                  OLS Regression Results                                  \n",
      "==========================================================================================\n",
      "Dep. Variable:     np.log1p(non_residential_rent)   R-squared:                       0.981\n",
      "Model:                                        OLS   Adj. R-squared:                  0.981\n",
      "Method:                             Least Squares   F-statistic:                 2.617e+04\n",
      "Date:                            Thu, 01 Mar 2018   Prob (F-statistic):               0.00\n",
      "Time:                                    12:53:56   Log-Likelihood:                 5879.8\n",
      "No. Observations:                            2558   AIC:                        -1.175e+04\n",
      "Df Residuals:                                2552   BIC:                        -1.171e+04\n",
      "Df Model:                                       5                                         \n",
      "Covariance Type:                        nonrobust                                         \n",
      "================================================================================================\n",
      "                                   coef    std err          t      P>|t|      [0.025      0.975]\n",
      "------------------------------------------------------------------------------------------------\n",
      "Intercept                        3.7911      0.014    270.416      0.000       3.764       3.819\n",
      "I(year_built < 1940)[T.True]    -0.2972      0.001   -288.111      0.000      -0.299      -0.295\n",
      "I(year_built > 2005)[T.True]    -0.0357      0.005     -7.814      0.000      -0.045      -0.027\n",
      "np.log1p(stories)                0.3799      0.002    199.992      0.000       0.376       0.384\n",
      "ave_income                      -0.1806      0.001   -149.527      0.000      -0.183      -0.178\n",
      "jobs                             0.0525      0.001     95.414      0.000       0.051       0.054\n",
      "==============================================================================\n",
      "Omnibus:                      218.361   Durbin-Watson:                   1.458\n",
      "Prob(Omnibus):                  0.000   Jarque-Bera (JB):               75.619\n",
      "Skew:                           0.136   Prob(JB):                     3.80e-17\n",
      "Kurtosis:                       2.203   Cond. No.                         385.\n",
      "==============================================================================\n",
      "\n",
      "Warnings:\n",
      "[1] Standard Errors assume that the covariance matrix of the errors is correctly specified.\n",
      "REGRESSION RESULTS FOR SEGMENT Office\n",
      "\n",
      "                                  OLS Regression Results                                  \n",
      "==========================================================================================\n",
      "Dep. Variable:     np.log1p(non_residential_rent)   R-squared:                       0.995\n",
      "Model:                                        OLS   Adj. R-squared:                  0.995\n",
      "Method:                             Least Squares   F-statistic:                 1.539e+05\n",
      "Date:                            Thu, 01 Mar 2018   Prob (F-statistic):               0.00\n",
      "Time:                                    12:53:56   Log-Likelihood:                 10681.\n",
      "No. Observations:                            3653   AIC:                        -2.135e+04\n",
      "Df Residuals:                                3647   BIC:                        -2.131e+04\n",
      "Df Model:                                       5                                         \n",
      "Covariance Type:                        nonrobust                                         \n",
      "================================================================================================\n",
      "                                   coef    std err          t      P>|t|      [0.025      0.975]\n",
      "------------------------------------------------------------------------------------------------\n",
      "Intercept                        4.1561      0.006    725.599      0.000       4.145       4.167\n",
      "I(year_built < 1940)[T.True]    -0.3095      0.000   -653.507      0.000      -0.310      -0.309\n",
      "I(year_built > 2005)[T.True]    -0.0273      0.002    -12.897      0.000      -0.031      -0.023\n",
      "np.log1p(stories)                0.1718      0.000    394.669      0.000       0.171       0.173\n",
      "ave_income                      -0.0699      0.000   -155.058      0.000      -0.071      -0.069\n",
      "jobs                            -0.0424      0.000   -176.791      0.000      -0.043      -0.042\n",
      "==============================================================================\n",
      "Omnibus:                      419.643   Durbin-Watson:                   1.674\n",
      "Prob(Omnibus):                  0.000   Jarque-Bera (JB):              116.680\n",
      "Skew:                          -0.069   Prob(JB):                     4.60e-26\n",
      "Kurtosis:                       2.136   Cond. No.                         348.\n",
      "==============================================================================\n",
      "\n",
      "Warnings:\n",
      "[1] Standard Errors assume that the covariance matrix of the errors is correctly specified.\n",
      "REGRESSION RESULTS FOR SEGMENT Retail\n",
      "\n",
      "                                  OLS Regression Results                                  \n",
      "==========================================================================================\n",
      "Dep. Variable:     np.log1p(non_residential_rent)   R-squared:                       0.995\n",
      "Model:                                        OLS   Adj. R-squared:                  0.995\n",
      "Method:                             Least Squares   F-statistic:                 1.848e+05\n",
      "Date:                            Thu, 01 Mar 2018   Prob (F-statistic):               0.00\n",
      "Time:                                    12:53:56   Log-Likelihood:                 13908.\n",
      "No. Observations:                            4592   AIC:                        -2.780e+04\n",
      "Df Residuals:                                4586   BIC:                        -2.777e+04\n",
      "Df Model:                                       5                                         \n",
      "Covariance Type:                        nonrobust                                         \n",
      "================================================================================================\n",
      "                                   coef    std err          t      P>|t|      [0.025      0.975]\n",
      "------------------------------------------------------------------------------------------------\n",
      "Intercept                        4.0232      0.005    802.242      0.000       4.013       4.033\n",
      "I(year_built < 1940)[T.True]    -0.3197      0.000   -835.602      0.000      -0.320      -0.319\n",
      "I(year_built > 2005)[T.True]    -0.1098      0.002    -69.942      0.000      -0.113      -0.107\n",
      "np.log1p(stories)                0.2278      0.001    408.119      0.000       0.227       0.229\n",
      "ave_income                      -0.0514      0.000   -131.622      0.000      -0.052      -0.051\n",
      "jobs                            -0.0364      0.000   -176.496      0.000      -0.037      -0.036\n",
      "==============================================================================\n",
      "Omnibus:                      711.081   Durbin-Watson:                   1.148\n",
      "Prob(Omnibus):                  0.000   Jarque-Bera (JB):              164.938\n",
      "Skew:                           0.033   Prob(JB):                     1.53e-36\n",
      "Kurtosis:                       2.074   Cond. No.                         374.\n",
      "==============================================================================\n",
      "\n",
      "Warnings:\n",
      "[1] Standard Errors assume that the covariance matrix of the errors is correctly specified.\n",
      "Time to execute step 'nrh_estimate': 1.08 s\n",
      "Total time to execute iteration 1 with iteration value None: 1.08 s\n"
     ]
    }
   ],
   "source": [
    "orca.run([\"nrh_estimate\"])"
   ]
  },
  {
   "cell_type": "markdown",
   "metadata": {},
   "source": [
    "## Hedonic Simulation"
   ]
  },
  {
   "cell_type": "code",
   "execution_count": 4,
   "metadata": {
    "collapsed": false
   },
   "outputs": [
    {
     "name": "stdout",
     "output_type": "stream",
     "text": [
      "Running step 'rsh_simulate'\n",
      "count    1.407800e+05\n",
      "mean     1.156971e+03\n",
      "std      4.150325e+04\n",
      "min      2.067312e-03\n",
      "25%      2.527275e+02\n",
      "50%      3.799935e+02\n",
      "75%      5.542447e+02\n",
      "max      1.250703e+07\n",
      "dtype: float64\n",
      "Time to execute step 'rsh_simulate': 1.37 s\n",
      "Running step 'nrh_simulate'\n",
      "count    10803.000000\n",
      "mean        20.729909\n",
      "std          6.833292\n",
      "min          6.258496\n",
      "25%         17.431477\n",
      "50%         20.908725\n",
      "75%         25.077906\n",
      "max         47.266957\n",
      "dtype: float64\n",
      "Time to execute step 'nrh_simulate': 0.80 s\n",
      "Total time to execute iteration 1 with iteration value None: 2.17 s\n"
     ]
    }
   ],
   "source": [
    "orca.run([\"rsh_simulate\", \"nrh_simulate\"])"
   ]
  },
  {
   "cell_type": "markdown",
   "metadata": {},
   "source": [
    "## LCM Estimation"
   ]
  },
  {
   "cell_type": "code",
   "execution_count": 5,
   "metadata": {
    "collapsed": false,
    "scrolled": false
   },
   "outputs": [
    {
     "name": "stdout",
     "output_type": "stream",
     "text": [
      "Running step 'hlcm_estimate'\n",
      "LCM RESULTS FOR SEGMENT 0\n",
      "\n",
      "Null Log-liklihood: -13815.511\n",
      "Log-liklihood at convergence: -11457.725\n",
      "Log-liklihood Ratio: 0.171\n",
      "\n",
      "+-----------------------------------+-------------+------------+---------+\n",
      "| Component                         | Coefficient | Std. Error | T-Score |\n",
      "+-----------------------------------+-------------+------------+---------+\n",
      "| np.log1p(residential_sales_price) |    1.649    |   0.079    |  20.966 |\n",
      "| np.log1p(unit_sqft)               |    2.100    |   0.115    |  18.272 |\n",
      "| sum_residential_units             |    0.073    |   0.110    |  0.661  |\n",
      "| ave_unit_sqft                     |    -1.187   |   0.111    | -10.660 |\n",
      "| ave_lot_sqft                      |    0.405    |   0.040    |  10.024 |\n",
      "| ave_income                        |    -2.292   |   0.116    | -19.832 |\n",
      "| hhsize                            |    -0.872   |   0.145    |  -6.031 |\n",
      "| jobs                              |    -0.021   |   0.033    |  -0.641 |\n",
      "| sfdu                              |    -0.063   |   0.019    |  -3.306 |\n",
      "| renters                           |    -0.398   |   0.038    | -10.568 |\n",
      "| poor                              |    1.272    |   0.089    |  14.372 |\n",
      "| population                        |    -0.737   |   0.126    |  -5.829 |\n",
      "+-----------------------------------+-------------+------------+---------+\n",
      "LCM RESULTS FOR SEGMENT 1\n",
      "\n",
      "Null Log-liklihood: -13815.511\n",
      "Log-liklihood at convergence: -12545.651\n",
      "Log-liklihood Ratio: 0.092\n",
      "\n",
      "+-----------------------------------+-------------+------------+---------+\n",
      "| Component                         | Coefficient | Std. Error | T-Score |\n",
      "+-----------------------------------+-------------+------------+---------+\n",
      "| np.log1p(residential_sales_price) |    2.065    |   0.064    |  32.516 |\n",
      "| np.log1p(unit_sqft)               |    2.600    |   0.090    |  28.946 |\n",
      "| sum_residential_units             |    -0.150   |   0.112    |  -1.339 |\n",
      "| ave_unit_sqft                     |    -1.556   |   0.125    | -12.468 |\n",
      "| ave_lot_sqft                      |    0.307    |   0.043    |  7.105  |\n",
      "| ave_income                        |    -2.076   |   0.108    | -19.160 |\n",
      "| hhsize                            |    -0.300   |   0.143    |  -2.093 |\n",
      "| jobs                              |    0.014    |   0.032    |  0.418  |\n",
      "| sfdu                              |    -0.009   |   0.019    |  -0.459 |\n",
      "| renters                           |    -0.566   |   0.044    | -12.761 |\n",
      "| poor                              |    0.767    |   0.089    |  8.639  |\n",
      "| population                        |    -0.006   |   0.144    |  -0.041 |\n",
      "+-----------------------------------+-------------+------------+---------+\n",
      "LCM RESULTS FOR SEGMENT 2\n",
      "\n",
      "Null Log-liklihood: -13815.511\n",
      "Log-liklihood at convergence: -12992.896\n",
      "Log-liklihood Ratio: 0.060\n",
      "\n",
      "+-----------------------------------+-------------+------------+---------+\n",
      "| Component                         | Coefficient | Std. Error | T-Score |\n",
      "+-----------------------------------+-------------+------------+---------+\n",
      "| np.log1p(residential_sales_price) |    2.103    |   0.057    |  37.214 |\n",
      "| np.log1p(unit_sqft)               |    2.603    |   0.078    |  33.445 |\n",
      "| sum_residential_units             |    -0.014   |   0.116    |  -0.123 |\n",
      "| ave_unit_sqft                     |    -1.790   |   0.130    | -13.740 |\n",
      "| ave_lot_sqft                      |    0.391    |   0.047    |  8.328  |\n",
      "| ave_income                        |    -1.740   |   0.109    | -15.947 |\n",
      "| hhsize                            |    -0.171   |   0.143    |  -1.191 |\n",
      "| jobs                              |    0.058    |   0.032    |  1.836  |\n",
      "| sfdu                              |    -0.002   |   0.020    |  -0.101 |\n",
      "| renters                           |    -0.464   |   0.052    |  -8.939 |\n",
      "| poor                              |    0.353    |   0.093    |  3.806  |\n",
      "| population                        |    0.302    |   0.161    |  1.875  |\n",
      "+-----------------------------------+-------------+------------+---------+\n",
      "LCM RESULTS FOR SEGMENT 3\n",
      "\n",
      "Null Log-liklihood: -13815.511\n",
      "Log-liklihood at convergence: -13103.106\n",
      "Log-liklihood Ratio: 0.052\n",
      "\n",
      "+-----------------------------------+-------------+------------+---------+\n",
      "| Component                         | Coefficient | Std. Error | T-Score |\n",
      "+-----------------------------------+-------------+------------+---------+\n",
      "| np.log1p(residential_sales_price) |    2.349    |   0.064    |  36.929 |\n",
      "| np.log1p(unit_sqft)               |    3.000    |   0.091    |  32.897 |\n",
      "| sum_residential_units             |    -0.439   |   0.121    |  -3.616 |\n",
      "| ave_unit_sqft                     |    -1.804   |   0.126    | -14.298 |\n",
      "| ave_lot_sqft                      |    0.339    |   0.054    |  6.329  |\n",
      "| ave_income                        |    -1.642   |   0.106    | -15.450 |\n",
      "| hhsize                            |    -0.958   |   0.145    |  -6.596 |\n",
      "| jobs                              |    0.055    |   0.031    |  1.762  |\n",
      "| sfdu                              |    -0.023   |   0.020    |  -1.166 |\n",
      "| renters                           |    -0.267   |   0.068    |  -3.951 |\n",
      "| poor                              |    0.282    |   0.099    |  2.859  |\n",
      "| population                        |    0.326    |   0.185    |  1.758  |\n",
      "+-----------------------------------+-------------+------------+---------+\n",
      "Time to execute step 'hlcm_estimate': 18.86 s\n",
      "Total time to execute iteration 1 with iteration value None: 18.86 s\n"
     ]
    }
   ],
   "source": [
    "orca.run([\"hlcm_estimate\"])"
   ]
  },
  {
   "cell_type": "code",
   "execution_count": 6,
   "metadata": {
    "collapsed": false,
    "scrolled": false
   },
   "outputs": [
    {
     "name": "stdout",
     "output_type": "stream",
     "text": [
      "Running step 'elcm_estimate'\n",
      "LCM RESULTS FOR SEGMENT service\n",
      "\n",
      "Null Log-liklihood: -15666.789\n",
      "Log-liklihood at convergence: -12585.542\n",
      "Log-liklihood Ratio: 0.197\n",
      "\n",
      "+--------------------------------+-------------+------------+---------+\n",
      "| Component                      | Coefficient | Std. Error | T-Score |\n",
      "+--------------------------------+-------------+------------+---------+\n",
      "| np.log1p(non_residential_rent) |    1.569    |   0.053    |  29.725 |\n",
      "| sum_job_spaces                 |    -0.351   |   0.047    |  -7.432 |\n",
      "| sum_residential_units          |    0.046    |   0.052    |  0.875  |\n",
      "| ave_unit_sqft                  |    0.024    |   0.019    |  1.319  |\n",
      "| ave_lot_sqft                   |    0.004    |   0.030    |  0.131  |\n",
      "| ave_income                     |    -0.207   |   0.039    |  -5.325 |\n",
      "| hhsize                         |    -0.981   |   0.148    |  -6.618 |\n",
      "| jobs                           |    1.122    |   0.049    |  22.813 |\n",
      "| poor                           |    -0.242   |   0.031    |  -7.792 |\n",
      "+--------------------------------+-------------+------------+---------+\n",
      "LCM RESULTS FOR SEGMENT retail\n",
      "\n",
      "Null Log-liklihood: -14791.807\n",
      "Log-liklihood at convergence: -13554.224\n",
      "Log-liklihood Ratio: 0.084\n",
      "\n",
      "+--------------------------------+-------------+------------+---------+\n",
      "| Component                      | Coefficient | Std. Error | T-Score |\n",
      "+--------------------------------+-------------+------------+---------+\n",
      "| np.log1p(non_residential_rent) |    1.419    |   0.053    |  27.014 |\n",
      "| sum_job_spaces                 |    0.085    |   0.046    |  1.840  |\n",
      "| sum_residential_units          |    -0.206   |   0.060    |  -3.408 |\n",
      "| ave_unit_sqft                  |    -0.035   |   0.027    |  -1.283 |\n",
      "| ave_lot_sqft                   |    0.090    |   0.035    |  2.556  |\n",
      "| ave_income                     |    0.651    |   0.043    |  15.286 |\n",
      "| hhsize                         |    -0.904   |   0.143    |  -6.302 |\n",
      "| jobs                           |    0.687    |   0.054    |  12.766 |\n",
      "| poor                           |    0.168    |   0.036    |  4.620  |\n",
      "+--------------------------------+-------------+------------+---------+\n",
      "LCM RESULTS FOR SEGMENT industrial\n",
      "\n",
      "Null Log-liklihood: -17149.654\n",
      "Log-liklihood at convergence: -14766.872\n",
      "Log-liklihood Ratio: 0.139\n",
      "\n",
      "+--------------------------------+-------------+------------+---------+\n",
      "| Component                      | Coefficient | Std. Error | T-Score |\n",
      "+--------------------------------+-------------+------------+---------+\n",
      "| np.log1p(non_residential_rent) |    0.416    |   0.043    |  9.776  |\n",
      "| sum_job_spaces                 |    -0.183   |   0.043    |  -4.226 |\n",
      "| sum_residential_units          |    0.158    |   0.052    |  3.049  |\n",
      "| ave_unit_sqft                  |    0.134    |   0.023    |  5.802  |\n",
      "| ave_lot_sqft                   |    0.479    |   0.029    |  16.404 |\n",
      "| ave_income                     |    -0.144   |   0.039    |  -3.745 |\n",
      "| hhsize                         |    0.119    |   0.118    |  1.005  |\n",
      "| jobs                           |    0.615    |   0.046    |  13.282 |\n",
      "| poor                           |    -0.383   |   0.030    | -12.950 |\n",
      "+--------------------------------+-------------+------------+---------+\n",
      "LCM RESULTS FOR SEGMENT agriculture\n",
      "\n",
      "Null Log-liklihood: -990.112\n",
      "Log-liklihood at convergence: -684.995\n",
      "Log-liklihood Ratio: 0.308\n",
      "\n",
      "+--------------------------------+-------------+------------+---------+\n",
      "| Component                      | Coefficient | Std. Error | T-Score |\n",
      "+--------------------------------+-------------+------------+---------+\n",
      "| np.log1p(non_residential_rent) |    0.866    |   0.241    |  3.594  |\n",
      "| sum_job_spaces                 |    -0.792   |   0.300    |  -2.640 |\n",
      "| sum_residential_units          |    0.559    |   0.291    |  1.922  |\n",
      "| ave_unit_sqft                  |    -0.583   |   0.087    |  -6.667 |\n",
      "| ave_lot_sqft                   |    0.439    |   0.179    |  2.458  |\n",
      "| ave_income                     |    -0.001   |   0.244    |  -0.005 |\n",
      "| hhsize                         |    -0.532   |   0.729    |  -0.730 |\n",
      "| jobs                           |    1.547    |   0.314    |  4.918  |\n",
      "| poor                           |    -0.471   |   0.155    |  -3.048 |\n",
      "+--------------------------------+-------------+------------+---------+\n",
      "Time to execute step 'elcm_estimate': 8.75 s\n",
      "Total time to execute iteration 1 with iteration value None: 8.75 s\n"
     ]
    }
   ],
   "source": [
    "orca.run([\"elcm_estimate\"])"
   ]
  },
  {
   "cell_type": "code",
   "execution_count": null,
   "metadata": {
    "collapsed": false
   },
   "outputs": [],
   "source": []
  },
  {
   "cell_type": "code",
   "execution_count": null,
   "metadata": {
    "collapsed": true
   },
   "outputs": [],
   "source": []
  }
 ],
 "metadata": {
  "anaconda-cloud": {},
  "kernelspec": {
   "display_name": "Python [conda root]",
   "language": "python",
   "name": "conda-root-py"
  },
  "language_info": {
   "codemirror_mode": {
    "name": "ipython",
    "version": 3
   },
   "file_extension": ".py",
   "mimetype": "text/x-python",
   "name": "python",
   "nbconvert_exporter": "python",
   "pygments_lexer": "ipython3",
   "version": "3.5.2"
  }
 },
 "nbformat": 4,
 "nbformat_minor": 0
}
