{
 "cells": [
  {
   "cell_type": "code",
   "execution_count": 4,
   "metadata": {
    "collapsed": false
   },
   "outputs": [],
   "source": [
    "import os\n",
    "import pandas as pd\n",
    "import numpy as np\n",
    "import orca\n",
    "from urbansim.models import RegressionModel\n",
    "from urbansim.utils import misc\n",
    "import h5py\n",
    "#import greenroof as gr\n",
    "import csv"
   ]
  },
  {
   "cell_type": "code",
   "execution_count": 2,
   "metadata": {
    "collapsed": false
   },
   "outputs": [
    {
     "name": "stdout",
     "output_type": "stream",
     "text": [
      "Keys: KeysView(<HDF5 file \"sanfran_public.h5\" (mode r)>)\n"
     ]
    },
    {
     "ename": "KeyError",
     "evalue": "'table not found: buildings'",
     "output_type": "error",
     "traceback": [
      "\u001b[0;31m---------------------------------------------------------------------------\u001b[0m",
      "\u001b[0;31mKeyError\u001b[0m                                  Traceback (most recent call last)",
      "\u001b[0;32m<ipython-input-2-cd388eeeac2b>\u001b[0m in \u001b[0;36m<module>\u001b[0;34m()\u001b[0m\n\u001b[1;32m      6\u001b[0m \u001b[0mf\u001b[0m \u001b[1;33m=\u001b[0m \u001b[0mh5py\u001b[0m\u001b[1;33m.\u001b[0m\u001b[0mFile\u001b[0m\u001b[1;33m(\u001b[0m\u001b[0mfilename\u001b[0m\u001b[1;33m,\u001b[0m \u001b[1;34m'r'\u001b[0m\u001b[1;33m)\u001b[0m\u001b[1;33m\u001b[0m\u001b[0m\n\u001b[1;32m      7\u001b[0m \u001b[0mprint\u001b[0m\u001b[1;33m(\u001b[0m\u001b[1;34m\"Keys: %s\"\u001b[0m \u001b[1;33m%\u001b[0m \u001b[0mf\u001b[0m\u001b[1;33m.\u001b[0m\u001b[0mkeys\u001b[0m\u001b[1;33m(\u001b[0m\u001b[1;33m)\u001b[0m\u001b[1;33m)\u001b[0m\u001b[1;33m\u001b[0m\u001b[0m\n\u001b[0;32m----> 8\u001b[0;31m \u001b[0mt\u001b[0m \u001b[1;33m=\u001b[0m \u001b[0morca\u001b[0m\u001b[1;33m.\u001b[0m\u001b[0mget_table\u001b[0m\u001b[1;33m(\u001b[0m\u001b[1;34m'buildings'\u001b[0m\u001b[1;33m)\u001b[0m\u001b[1;33m\u001b[0m\u001b[0m\n\u001b[0m\u001b[1;32m      9\u001b[0m \u001b[1;31m#orca.get_column('index')\u001b[0m\u001b[1;33m\u001b[0m\u001b[1;33m\u001b[0m\u001b[0m\n\u001b[1;32m     10\u001b[0m \u001b[1;31m#orca.orca.list_columns_for_table(dataname)\u001b[0m\u001b[1;33m\u001b[0m\u001b[1;33m\u001b[0m\u001b[0m\n",
      "\u001b[0;32mC:\\Users\\Harrison Freund\\Anaconda3\\lib\\site-packages\\orca\\orca.py\u001b[0m in \u001b[0;36mget_table\u001b[0;34m(table_name)\u001b[0m\n\u001b[1;32m   1065\u001b[0m \u001b[1;33m\u001b[0m\u001b[0m\n\u001b[1;32m   1066\u001b[0m     \"\"\"\n\u001b[0;32m-> 1067\u001b[0;31m     \u001b[0mtable\u001b[0m \u001b[1;33m=\u001b[0m \u001b[0mget_raw_table\u001b[0m\u001b[1;33m(\u001b[0m\u001b[0mtable_name\u001b[0m\u001b[1;33m)\u001b[0m\u001b[1;33m\u001b[0m\u001b[0m\n\u001b[0m\u001b[1;32m   1068\u001b[0m     \u001b[1;32mif\u001b[0m \u001b[0misinstance\u001b[0m\u001b[1;33m(\u001b[0m\u001b[0mtable\u001b[0m\u001b[1;33m,\u001b[0m \u001b[0mTableFuncWrapper\u001b[0m\u001b[1;33m)\u001b[0m\u001b[1;33m:\u001b[0m\u001b[1;33m\u001b[0m\u001b[0m\n\u001b[1;32m   1069\u001b[0m         \u001b[0mtable\u001b[0m \u001b[1;33m=\u001b[0m \u001b[0mtable\u001b[0m\u001b[1;33m(\u001b[0m\u001b[1;33m)\u001b[0m\u001b[1;33m\u001b[0m\u001b[0m\n",
      "\u001b[0;32mC:\\Users\\Harrison Freund\\Anaconda3\\lib\\site-packages\\orca\\orca.py\u001b[0m in \u001b[0;36mget_raw_table\u001b[0;34m(table_name)\u001b[0m\n\u001b[1;32m   1047\u001b[0m         \u001b[1;32mreturn\u001b[0m \u001b[0m_TABLES\u001b[0m\u001b[1;33m[\u001b[0m\u001b[0mtable_name\u001b[0m\u001b[1;33m]\u001b[0m\u001b[1;33m\u001b[0m\u001b[0m\n\u001b[1;32m   1048\u001b[0m     \u001b[1;32melse\u001b[0m\u001b[1;33m:\u001b[0m\u001b[1;33m\u001b[0m\u001b[0m\n\u001b[0;32m-> 1049\u001b[0;31m         \u001b[1;32mraise\u001b[0m \u001b[0mKeyError\u001b[0m\u001b[1;33m(\u001b[0m\u001b[1;34m'table not found: {}'\u001b[0m\u001b[1;33m.\u001b[0m\u001b[0mformat\u001b[0m\u001b[1;33m(\u001b[0m\u001b[0mtable_name\u001b[0m\u001b[1;33m)\u001b[0m\u001b[1;33m)\u001b[0m\u001b[1;33m\u001b[0m\u001b[0m\n\u001b[0m\u001b[1;32m   1050\u001b[0m \u001b[1;33m\u001b[0m\u001b[0m\n\u001b[1;32m   1051\u001b[0m \u001b[1;33m\u001b[0m\u001b[0m\n",
      "\u001b[0;31mKeyError\u001b[0m: 'table not found: buildings'"
     ]
    }
   ],
   "source": [
    "##store the filename in pd frame\n",
    "##get tables from that with orca\n",
    "##\n",
    "filename = 'C:\\GreenRoof\\sanfran_urbansim-master\\data\\sanfran_public.h5'\n",
    "tablename = 'buildings'\n",
    "f = h5py.File(filename, 'r')\n",
    "print(\"Keys: %s\" % f.keys())\n",
    "t = orca.get_table('buildings')\n",
    "#orca.get_column('index')\n",
    "#orca.orca.list_columns_for_table(dataname)"
   ]
  },
  {
   "cell_type": "code",
   "execution_count": 21,
   "metadata": {
    "collapsed": false
   },
   "outputs": [
    {
     "data": {
      "text/html": [
       "<div>\n",
       "<table border=\"1\" class=\"dataframe\">\n",
       "  <thead>\n",
       "    <tr style=\"text-align: right;\">\n",
       "      <th></th>\n",
       "      <th>conv maintain</th>\n",
       "      <th>green ben</th>\n",
       "      <th>green cost</th>\n",
       "      <th>green ins</th>\n",
       "      <th>green net</th>\n",
       "      <th>income</th>\n",
       "      <th>job</th>\n",
       "      <th>job density</th>\n",
       "      <th>prop val</th>\n",
       "      <th>rent</th>\n",
       "      <th>vacant</th>\n",
       "    </tr>\n",
       "  </thead>\n",
       "  <tbody>\n",
       "    <tr>\n",
       "      <th>4</th>\n",
       "      <td>22.0</td>\n",
       "      <td>22.0</td>\n",
       "      <td>NaN</td>\n",
       "      <td>NaN</td>\n",
       "      <td>NaN</td>\n",
       "      <td>NaN</td>\n",
       "      <td>NaN</td>\n",
       "      <td>NaN</td>\n",
       "      <td>NaN</td>\n",
       "      <td>NaN</td>\n",
       "      <td>NaN</td>\n",
       "    </tr>\n",
       "    <tr>\n",
       "      <th>1</th>\n",
       "      <td>10000.0</td>\n",
       "      <td>25000.0</td>\n",
       "      <td>25000.0</td>\n",
       "      <td>Y</td>\n",
       "      <td>25000.0</td>\n",
       "      <td>25000.0</td>\n",
       "      <td>Y</td>\n",
       "      <td>34.0</td>\n",
       "      <td>65000.0</td>\n",
       "      <td>NaN</td>\n",
       "      <td>NaN</td>\n",
       "    </tr>\n",
       "    <tr>\n",
       "      <th>5</th>\n",
       "      <td>NaN</td>\n",
       "      <td>22.0</td>\n",
       "      <td>NaN</td>\n",
       "      <td>NaN</td>\n",
       "      <td>NaN</td>\n",
       "      <td>NaN</td>\n",
       "      <td>NaN</td>\n",
       "      <td>NaN</td>\n",
       "      <td>NaN</td>\n",
       "      <td>NaN</td>\n",
       "      <td>NaN</td>\n",
       "    </tr>\n",
       "    <tr>\n",
       "      <th>6</th>\n",
       "      <td>NaN</td>\n",
       "      <td>22.0</td>\n",
       "      <td>NaN</td>\n",
       "      <td>NaN</td>\n",
       "      <td>NaN</td>\n",
       "      <td>NaN</td>\n",
       "      <td>NaN</td>\n",
       "      <td>NaN</td>\n",
       "      <td>NaN</td>\n",
       "      <td>NaN</td>\n",
       "      <td>NaN</td>\n",
       "    </tr>\n",
       "    <tr>\n",
       "      <th>-1</th>\n",
       "      <td>NaN</td>\n",
       "      <td>2.0</td>\n",
       "      <td>NaN</td>\n",
       "      <td>NaN</td>\n",
       "      <td>NaN</td>\n",
       "      <td>NaN</td>\n",
       "      <td>NaN</td>\n",
       "      <td>NaN</td>\n",
       "      <td>NaN</td>\n",
       "      <td>NaN</td>\n",
       "      <td>NaN</td>\n",
       "    </tr>\n",
       "    <tr>\n",
       "      <th>3</th>\n",
       "      <td>NaN</td>\n",
       "      <td>20000000.0</td>\n",
       "      <td>20000000.0</td>\n",
       "      <td>NaN</td>\n",
       "      <td>20000000.0</td>\n",
       "      <td>20000000.0</td>\n",
       "      <td>NaN</td>\n",
       "      <td>NaN</td>\n",
       "      <td>NaN</td>\n",
       "      <td>NaN</td>\n",
       "      <td>NaN</td>\n",
       "    </tr>\n",
       "    <tr>\n",
       "      <th>2</th>\n",
       "      <td>NaN</td>\n",
       "      <td>100000.0</td>\n",
       "      <td>100000.0</td>\n",
       "      <td>N</td>\n",
       "      <td>100000.0</td>\n",
       "      <td>100000.0</td>\n",
       "      <td>NaN</td>\n",
       "      <td>NaN</td>\n",
       "      <td>2100000.0</td>\n",
       "      <td>NaN</td>\n",
       "      <td>NaN</td>\n",
       "    </tr>\n",
       "    <tr>\n",
       "      <th>-2</th>\n",
       "      <td>NaN</td>\n",
       "      <td>NaN</td>\n",
       "      <td>NaN</td>\n",
       "      <td>NaN</td>\n",
       "      <td>NaN</td>\n",
       "      <td>NaN</td>\n",
       "      <td>NaN</td>\n",
       "      <td>NaN</td>\n",
       "      <td>NaN</td>\n",
       "      <td>0.0</td>\n",
       "      <td>NaN</td>\n",
       "    </tr>\n",
       "  </tbody>\n",
       "</table>\n",
       "</div>"
      ],
      "text/plain": [
       "    conv maintain   green ben  green cost green ins   green net      income  \\\n",
       "4            22.0        22.0         NaN       NaN         NaN         NaN   \n",
       "1         10000.0     25000.0     25000.0         Y     25000.0     25000.0   \n",
       "5             NaN        22.0         NaN       NaN         NaN         NaN   \n",
       "6             NaN        22.0         NaN       NaN         NaN         NaN   \n",
       "-1            NaN         2.0         NaN       NaN         NaN         NaN   \n",
       "3             NaN  20000000.0  20000000.0       NaN  20000000.0  20000000.0   \n",
       "2             NaN    100000.0    100000.0         N    100000.0    100000.0   \n",
       "-2            NaN         NaN         NaN       NaN         NaN         NaN   \n",
       "\n",
       "    job  job density   prop val  rent  vacant  \n",
       "4   NaN          NaN        NaN   NaN     NaN  \n",
       "1     Y         34.0    65000.0   NaN     NaN  \n",
       "5   NaN          NaN        NaN   NaN     NaN  \n",
       "6   NaN          NaN        NaN   NaN     NaN  \n",
       "-1  NaN          NaN        NaN   NaN     NaN  \n",
       "3   NaN          NaN        NaN   NaN     NaN  \n",
       "2   NaN          NaN  2100000.0   NaN     NaN  \n",
       "-2  NaN          NaN        NaN   0.0     NaN  "
      ]
     },
     "execution_count": 21,
     "metadata": {},
     "output_type": "execute_result"
    }
   ],
   "source": [
    "income_dict = {\"1\": 25000, \"2\": 100000, \"3\": 20000000}\n",
    "roofinstalled_dict = {\"1\": 'Y', \"2\": 'N'}\n",
    "employed_dict = {\"1\": 'Y'}\n",
    "employment_density_dict = {\"1\": 34}\n",
    "rent_dict = {}\n",
    "vacant_dict = {}\n",
    "parsel_density_dict = {\"1\": 23.3, \"2\": 12}\n",
    "property_value_dict = {\"1\": 65000, \"2\": 2100000}\n",
    "project_cost_dict = {\"1\": 30000, \"2\": 3000000 }\n",
    "green_roof_benefit_dict = {\"1\": 25000, \"2\": 100000, \"3\": 20000000}\n",
    "green_roof_cost_dict = {\"1\": 25000, \"2\": 100000, \"3\": 20000000}\n",
    "green_roof_net_benefit_dict = {\"1\": 25000, \"2\": 100000, \"3\": 20000000}\n",
    "roof_cost_at_20yrs_dict = {\"1\": 10000}\n",
    "green_roof_benefit_dict.update({4 : 22})\n",
    "roof_cost_at_20yrs_dict.update({4 : 22})\n",
    "green_roof_benefit_dict.update({5 : 22})\n",
    "green_roof_benefit_dict.update({6 : 22})\n",
    "green_roof_benefit_dict.update({-1 : 2})\n",
    "rent_dict.update({-2: 0})\n",
    "employee = pd.Series(employed_dict)\n",
    "rents = pd.Series(rent_dict)\n",
    "vacancies = pd.Series(vacant_dict)\n",
    "roofinstalled = pd.Series(roofinstalled_dict)\n",
    "employment_density = pd.Series(employment_density_dict)\n",
    "incomes = pd.Series(income_dict)\n",
    "project_cost = pd.Series(project_cost_dict)\n",
    "green_roof_benefit = pd.Series(green_roof_benefit_dict)\n",
    "green_roof_cost = pd.Series(green_roof_cost_dict)\n",
    "green_roof_net_benefit = pd.Series(green_roof_net_benefit_dict)\n",
    "property_values = pd.Series(property_value_dict)\n",
    "conv_roof_maintenance = pd.Series(roof_cost_at_20yrs_dict)\n",
    "buildings = pd.DataFrame({\"income\": incomes, \"job\" : employed_dict,\"job density\": employment_density_dict, \"prop val\": property_value_dict, \"green ins\" : roofinstalled_dict, \"green ben\" : green_roof_benefit_dict, \"green cost\" : green_roof_cost_dict, \"green net\": green_roof_net_benefit_dict, \"rent\": rent_dict, \"vacant\" : vacancies, \"conv maintain\" :conv_roof_maintenance})\n",
    "buildings"
   ]
  },
  {
   "cell_type": "code",
   "execution_count": 64,
   "metadata": {
    "collapsed": false
   },
   "outputs": [],
   "source": [
    "buildings.to_csv(\"greenroof.csv\")\n",
    "\n",
    "#download_to_place = \"greenroof.csv\"\n",
    "#csv = open(download_to_place, \"w\")\n",
    "#columnTitleRow = (\"building ID, greenroof, income\\n\")\n",
    "#csv.write(columnTitleRow)\n",
    "#for building in greenroof_dict.keys():\n",
    "#    buildingID = key\n",
    "#    greenroof = greenroof_dict[key]\n",
    "#    income = income_dict[key]\n",
    "#    row = str(buildingID) + \",\" + str(greenroof) + \",\" + str(income) + \",\\n\"\n",
    "#    csv.write(row)"
   ]
  },
  {
   "cell_type": "code",
   "execution_count": 41,
   "metadata": {
    "collapsed": false
   },
   "outputs": [
    {
     "name": "stdout",
     "output_type": "stream",
     "text": [
      "Keys: KeysView(<HDF5 file \"sanfran_public.h5\" (mode r)>)\n"
     ]
    }
   ],
   "source": [
    "filename = 'C:\\GreenRoof\\sanfran_urbansim-master\\data\\sanfran_public.h5'\n",
    "f = h5py.File(filename, 'r')\n",
    "print(\"Keys: %s\" % f.keys())\n",
    "\n",
    "#orca.orca.list_columns_for_table(table)"
   ]
  },
  {
   "cell_type": "code",
   "execution_count": 37,
   "metadata": {
    "collapsed": false
   },
   "outputs": [
    {
     "name": "stdout",
     "output_type": "stream",
     "text": [
      "Installing Green Roof\n",
      "Upper limit reached\n",
      "Roof benefit is  979350.0\n",
      "Add'n roof cost is  187500\n"
     ]
    },
    {
     "data": {
      "text/plain": [
       "'Roof analysis complete'"
      ]
     },
     "execution_count": 37,
     "metadata": {},
     "output_type": "execute_result"
    }
   ],
   "source": [
    "gr.SanFranGreenRoof()"
   ]
  },
  {
   "cell_type": "code",
   "execution_count": 40,
   "metadata": {
    "collapsed": false
   },
   "outputs": [
    {
     "name": "stdout",
     "output_type": "stream",
     "text": [
      "Green Roof Selected\n",
      "Best benefit is  47250.0\n",
      "Roof benefit is  456637.5000000003\n",
      "Min benefit is 137250.0\n",
      "Min cost is  90000.0\n",
      "Add'n roof cost is  452925.00000000023\n",
      "Installation ratio is  0.2\n",
      "Green Roof Min was 0.2\n",
      "Mandate value was 1\n"
     ]
    },
    {
     "data": {
      "text/plain": [
       "'Roof analysis complete'"
      ]
     },
     "execution_count": 40,
     "metadata": {},
     "output_type": "execute_result"
    }
   ],
   "source": [
    "gr.TorontoGreenRoof()"
   ]
  },
  {
   "cell_type": "code",
   "execution_count": 41,
   "metadata": {
    "collapsed": false
   },
   "outputs": [
    {
     "name": "stdout",
     "output_type": "stream",
     "text": [
      "Green Roof Selected\n",
      "Best benefit is  120000.0\n",
      "Roof benefit is  120000.0\n",
      "Add'n roof cost is  0.0\n",
      "Installation ratio is  0\n",
      "Initial benefit was  0.0\n",
      "Green Cost Per Sqft\n"
     ]
    },
    {
     "data": {
      "text/plain": [
       "'Roof analysis complete'"
      ]
     },
     "execution_count": 41,
     "metadata": {},
     "output_type": "execute_result"
    }
   ],
   "source": [
    "gr.ChicagoGreenRoof()"
   ]
  },
  {
   "cell_type": "code",
   "execution_count": 43,
   "metadata": {
    "collapsed": false
   },
   "outputs": [
    {
     "name": "stdout",
     "output_type": "stream",
     "text": [
      "Green Roof Selected\n",
      "Best benefit is  1200000.0\n",
      "Roof benefit is  1200000.0\n",
      "Add'n roof cost is  0.0\n",
      "Installation ratio is  0\n"
     ]
    },
    {
     "data": {
      "text/plain": [
       "'Roof analysis complete'"
      ]
     },
     "execution_count": 43,
     "metadata": {},
     "output_type": "execute_result"
    }
   ],
   "source": [
    "gr.NoInterventionGreenRoof()"
   ]
  },
  {
   "cell_type": "markdown",
   "metadata": {},
   "source": [
    "## Set the location of the HDFStore as an injectable called \"store\""
   ]
  },
  {
   "cell_type": "code",
   "execution_count": 51,
   "metadata": {
    "collapsed": false
   },
   "outputs": [],
   "source": [
    "orca.add_injectable(\"store\", pd.HDFStore(os.path.join(misc.data_dir(), \"sanfran_public.h5\"), mode=\"r\"))"
   ]
  },
  {
   "cell_type": "markdown",
   "metadata": {},
   "source": [
    "## Specify table sources and broadcasts that will be used later"
   ]
  },
  {
   "cell_type": "code",
   "execution_count": 52,
   "metadata": {
    "collapsed": false
   },
   "outputs": [],
   "source": [
    "@orca.table('buildings')\n",
    "def buildings(store):\n",
    "    df = store['buildings']\n",
    "    return df\n",
    "\n",
    "@orca.table('zones')\n",
    "def zones(store):\n",
    "    df = store['zones']\n",
    "    return df\n",
    "\n",
    "@orca.table('households')\n",
    "def households(store):\n",
    "    df = store['households']\n",
    "    return df\n",
    "\n",
    "@orca.table('parcels')\n",
    "def parcels(store):\n",
    "    df = store['parcels']\n",
    "    return df\n",
    "\n",
    "orca.broadcast('zones', 'buildings', cast_index=True, onto_on='zone_id')"
   ]
  },
  {
   "cell_type": "markdown",
   "metadata": {},
   "source": [
    "## Specify the computed columns"
   ]
  },
  {
   "cell_type": "code",
   "execution_count": 53,
   "metadata": {
    "collapsed": false
   },
   "outputs": [],
   "source": [
    "@orca.column('households', 'income_quartile', cache=True)\n",
    "def income_quartile(households):\n",
    "    return pd.Series(pd.qcut(households.income, 4).labels,\n",
    "                     index=households.index)\n",
    "\n",
    "@orca.column('households', 'zone_id', cache=True)\n",
    "def zone_id(households, buildings):\n",
    "    return misc.reindex(buildings.zone_id, households.building_id)\n",
    "\n",
    "@orca.column('zones', 'ave_unit_sqft')\n",
    "def ave_unit_sqft(buildings, zones):\n",
    "    s = buildings.unit_sqft[buildings.general_type == \"Residential\"]\\\n",
    "        .groupby(buildings.zone_id).quantile().apply(np.log1p)\n",
    "    return s.reindex(zones.index).fillna(s.quantile())\n",
    "\n",
    "@orca.column('zones', 'ave_lot_sqft')\n",
    "def ave_lot_sqft(buildings, zones):\n",
    "    s = buildings.unit_lot_size.groupby(buildings.zone_id).quantile().apply(np.log1p)\n",
    "    return s.reindex(zones.index).fillna(s.quantile())\n",
    "\n",
    "@orca.column('zones', 'sum_residential_units')\n",
    "def sum_residential_units(buildings):\n",
    "    return buildings.residential_units.groupby(buildings.zone_id).sum().apply(np.log1p)\n",
    "\n",
    "@orca.column('zones', 'ave_income')\n",
    "def ave_income(households, zones):\n",
    "    s = households.income.groupby(households.zone_id).quantile().apply(np.log1p)\n",
    "    return s.reindex(zones.index).fillna(s.quantile())\n",
    "\n",
    "orca.add_injectable(\"building_type_map\", {\n",
    "    1: \"Residential\",\n",
    "    2: \"Residential\",\n",
    "    3: \"Residential\",\n",
    "    4: \"Office\",\n",
    "    5: \"Hotel\",\n",
    "    6: \"School\",\n",
    "    7: \"Industrial\",\n",
    "    8: \"Industrial\",\n",
    "    9: \"Industrial\",\n",
    "    10: \"Retail\",\n",
    "    11: \"Retail\",\n",
    "    12: \"Residential\",\n",
    "    13: \"Retail\",\n",
    "    14: \"Office\"\n",
    "})\n",
    "\n",
    "@orca.column('buildings', 'zone_id', cache=True)\n",
    "def zone_id(buildings, parcels):\n",
    "    return misc.reindex(parcels.zone_id, buildings.parcel_id)\n",
    "\n",
    "@orca.column('buildings', 'general_type', cache=True)\n",
    "def general_type(buildings, building_type_map):\n",
    "    return buildings.building_type_id.map(building_type_map)\n",
    "\n",
    "@orca.column('buildings', 'unit_sqft', cache=True)\n",
    "def unit_sqft(buildings):\n",
    "    return buildings.building_sqft / buildings.residential_units.replace(0, 1)\n",
    "\n",
    "@orca.column('buildings', 'unit_lot_size', cache=True)\n",
    "def unit_lot_size(buildings, parcels):\n",
    "    return misc.reindex(parcels.parcel_size, buildings.parcel_id) / \\\n",
    "        buildings.residential_units.replace(0, 1)\n",
    "    \n",
    "@orca.column('parcels', 'parcel_size', cache=True)\n",
    "def parcel_size(parcels):\n",
    "    return parcels.shape_area * 10.764"
   ]
  },
  {
   "cell_type": "markdown",
   "metadata": {},
   "source": [
    "## Configure the model"
   ]
  },
  {
   "cell_type": "code",
   "execution_count": 54,
   "metadata": {
    "collapsed": false
   },
   "outputs": [],
   "source": [
    "rm = RegressionModel(\n",
    "    fit_filters=[\n",
    "        'unit_lot_size > 0',\n",
    "        'year_built > 1000',\n",
    "        'year_built < 2020',\n",
    "        'unit_sqft > 100',\n",
    "        'unit_sqft < 20000'\n",
    "    ],\n",
    "    predict_filters=[\n",
    "        \"general_type == 'Residential'\"\n",
    "    ],\n",
    "    model_expression='np.log1p(residential_sales_price) ~ I(year_built < 1940)'\n",
    "        '+ I(year_built > 2005) + np.log1p(unit_sqft) + np.log1p(unit_lot_size)'\n",
    "        '+ sum_residential_units + ave_lot_sqft + ave_unit_sqft + ave_income',\n",
    "    ytransform = np.exp\n",
    ")     "
   ]
  },
  {
   "cell_type": "markdown",
   "metadata": {},
   "source": [
    "## Get the data - merge buildings and zones  (notice UrbanSum does the merge based on the broadcast)"
   ]
  },
  {
   "cell_type": "code",
   "execution_count": 55,
   "metadata": {
    "collapsed": false
   },
   "outputs": [],
   "source": [
    "merged_df = orca.merge_tables(target=\"buildings\", tables=[\"buildings\", \"zones\"], columns=rm.columns_used()) "
   ]
  },
  {
   "cell_type": "markdown",
   "metadata": {},
   "source": [
    "## Fill nans - UrbanSim wants you to take care of nans"
   ]
  },
  {
   "cell_type": "code",
   "execution_count": 56,
   "metadata": {
    "collapsed": false
   },
   "outputs": [
    {
     "name": "stdout",
     "output_type": "stream",
     "text": [
      "Found 3117 nas or inf (out of 152605) in column year_built\n"
     ]
    },
    {
     "name": "stderr",
     "output_type": "stream",
     "text": [
      "C:\\Users\\Harrison Freund\\Anaconda3\\lib\\site-packages\\numpy\\lib\\function_base.py:3834: RuntimeWarning: Invalid value encountered in percentile\n",
      "  RuntimeWarning)\n"
     ]
    },
    {
     "ename": "AssertionError",
     "evalue": "NAs were found in dataframe, please fix",
     "output_type": "error",
     "traceback": [
      "\u001b[0;31m---------------------------------------------------------------------------\u001b[0m",
      "\u001b[0;31mAssertionError\u001b[0m                            Traceback (most recent call last)",
      "\u001b[0;32m<ipython-input-56-ecd05c795cd5>\u001b[0m in \u001b[0;36m<module>\u001b[0;34m()\u001b[0m\n\u001b[1;32m      3\u001b[0m \u001b[0mmerged_df\u001b[0m\u001b[1;33m[\u001b[0m\u001b[1;34m\"residential_sales_price\"\u001b[0m\u001b[1;33m]\u001b[0m \u001b[1;33m=\u001b[0m \u001b[0mmerged_df\u001b[0m\u001b[1;33m.\u001b[0m\u001b[0mresidential_sales_price\u001b[0m\u001b[1;33m.\u001b[0m\u001b[0mfillna\u001b[0m\u001b[1;33m(\u001b[0m\u001b[1;36m0\u001b[0m\u001b[1;33m)\u001b[0m\u001b[1;33m\u001b[0m\u001b[0m\n\u001b[1;32m      4\u001b[0m \u001b[0mmerged_df\u001b[0m\u001b[1;33m[\u001b[0m\u001b[1;34m\"general_type\"\u001b[0m\u001b[1;33m]\u001b[0m \u001b[1;33m=\u001b[0m \u001b[0mmerged_df\u001b[0m\u001b[1;33m.\u001b[0m\u001b[0mgeneral_type\u001b[0m\u001b[1;33m.\u001b[0m\u001b[0mfillna\u001b[0m\u001b[1;33m(\u001b[0m\u001b[0mmerged_df\u001b[0m\u001b[1;33m.\u001b[0m\u001b[0mgeneral_type\u001b[0m\u001b[1;33m.\u001b[0m\u001b[0mvalue_counts\u001b[0m\u001b[1;33m(\u001b[0m\u001b[1;33m)\u001b[0m\u001b[1;33m.\u001b[0m\u001b[0midxmax\u001b[0m\u001b[1;33m(\u001b[0m\u001b[1;33m)\u001b[0m\u001b[1;33m)\u001b[0m\u001b[1;33m\u001b[0m\u001b[0m\n\u001b[0;32m----> 5\u001b[0;31m \u001b[0m_\u001b[0m \u001b[1;33m=\u001b[0m \u001b[0mutils\u001b[0m\u001b[1;33m.\u001b[0m\u001b[0mdeal_with_nas\u001b[0m\u001b[1;33m(\u001b[0m\u001b[0mmerged_df\u001b[0m\u001b[1;33m)\u001b[0m\u001b[1;33m\u001b[0m\u001b[0m\n\u001b[0m",
      "\u001b[0;32mC:\\GreenRoof\\sanfran_urbansim-master\\utils.py\u001b[0m in \u001b[0;36mdeal_with_nas\u001b[0;34m(df)\u001b[0m\n\u001b[1;32m     61\u001b[0m                   (df_cnt - s_cnt, df_cnt, col))\n\u001b[1;32m     62\u001b[0m \u001b[1;33m\u001b[0m\u001b[0m\n\u001b[0;32m---> 63\u001b[0;31m     \u001b[1;32massert\u001b[0m \u001b[1;32mnot\u001b[0m \u001b[0mfail\u001b[0m\u001b[1;33m,\u001b[0m \u001b[1;34m\"NAs were found in dataframe, please fix\"\u001b[0m\u001b[1;33m\u001b[0m\u001b[0m\n\u001b[0m\u001b[1;32m     64\u001b[0m     \u001b[1;32mreturn\u001b[0m \u001b[0mdf\u001b[0m\u001b[1;33m\u001b[0m\u001b[0m\n\u001b[1;32m     65\u001b[0m \u001b[1;33m\u001b[0m\u001b[0m\n",
      "\u001b[0;31mAssertionError\u001b[0m: NAs were found in dataframe, please fix"
     ]
    }
   ],
   "source": [
    "import utils\n",
    "merged_df[\"year_built\"] = merged_df.year_built.fillna(merged_df.year_built.quantile())\n",
    "merged_df[\"residential_sales_price\"] = merged_df.residential_sales_price.fillna(0)\n",
    "merged_df[\"general_type\"] = merged_df.general_type.fillna(merged_df.general_type.value_counts().idxmax())\n",
    "_ = utils.deal_with_nas(merged_df)"
   ]
  },
  {
   "cell_type": "markdown",
   "metadata": {},
   "source": [
    "## Fit and report"
   ]
  },
  {
   "cell_type": "code",
   "execution_count": 48,
   "metadata": {
    "collapsed": false
   },
   "outputs": [
    {
     "data": {
      "text/html": [
       "<table class=\"simpletable\">\n",
       "<caption>OLS Regression Results</caption>\n",
       "<tr>\n",
       "  <th>Dep. Variable:</th>    <td>np.log1p(residential_sales_price)</td> <th>  R-squared:         </th>  <td>   0.411</td>  \n",
       "</tr>\n",
       "<tr>\n",
       "  <th>Model:</th>                           <td>OLS</td>                <th>  Adj. R-squared:    </th>  <td>   0.411</td>  \n",
       "</tr>\n",
       "<tr>\n",
       "  <th>Method:</th>                     <td>Least Squares</td>           <th>  F-statistic:       </th>  <td>1.279e+04</td> \n",
       "</tr>\n",
       "<tr>\n",
       "  <th>Date:</th>                     <td>Thu, 21 Sep 2017</td>          <th>  Prob (F-statistic):</th>   <td>  0.00</td>   \n",
       "</tr>\n",
       "<tr>\n",
       "  <th>Time:</th>                         <td>12:16:07</td>              <th>  Log-Likelihood:    </th> <td>-2.2838e+05</td>\n",
       "</tr>\n",
       "<tr>\n",
       "  <th>No. Observations:</th>              <td>146526</td>               <th>  AIC:               </th>  <td>4.568e+05</td> \n",
       "</tr>\n",
       "<tr>\n",
       "  <th>Df Residuals:</th>                  <td>146517</td>               <th>  BIC:               </th>  <td>4.569e+05</td> \n",
       "</tr>\n",
       "<tr>\n",
       "  <th>Df Model:</th>                      <td>     8</td>               <th>                     </th>      <td> </td>     \n",
       "</tr>\n",
       "<tr>\n",
       "  <th>Covariance Type:</th>              <td>nonrobust</td>             <th>                     </th>      <td> </td>     \n",
       "</tr>\n",
       "</table>\n",
       "<table class=\"simpletable\">\n",
       "<tr>\n",
       "                <td></td>                  <th>coef</th>     <th>std err</th>      <th>t</th>      <th>P>|t|</th>  <th>[0.025</th>    <th>0.975]</th>  \n",
       "</tr>\n",
       "<tr>\n",
       "  <th>Intercept</th>                    <td>   -2.9433</td> <td>    0.152</td> <td>  -19.311</td> <td> 0.000</td> <td>   -3.242</td> <td>   -2.645</td>\n",
       "</tr>\n",
       "<tr>\n",
       "  <th>I(year_built < 1940)[T.True]</th> <td>    0.1461</td> <td>    0.007</td> <td>   22.230</td> <td> 0.000</td> <td>    0.133</td> <td>    0.159</td>\n",
       "</tr>\n",
       "<tr>\n",
       "  <th>I(year_built > 2005)[T.True]</th> <td>   -0.0679</td> <td>    0.043</td> <td>   -1.590</td> <td> 0.112</td> <td>   -0.152</td> <td>    0.016</td>\n",
       "</tr>\n",
       "<tr>\n",
       "  <th>np.log1p(unit_sqft)</th>          <td>   -1.3984</td> <td>    0.007</td> <td> -208.558</td> <td> 0.000</td> <td>   -1.412</td> <td>   -1.385</td>\n",
       "</tr>\n",
       "<tr>\n",
       "  <th>np.log1p(unit_lot_size)</th>      <td>   -0.1791</td> <td>    0.006</td> <td>  -29.714</td> <td> 0.000</td> <td>   -0.191</td> <td>   -0.167</td>\n",
       "</tr>\n",
       "<tr>\n",
       "  <th>sum_residential_units</th>        <td>    0.0453</td> <td>    0.007</td> <td>    6.167</td> <td> 0.000</td> <td>    0.031</td> <td>    0.060</td>\n",
       "</tr>\n",
       "<tr>\n",
       "  <th>ave_lot_sqft</th>                 <td>   -0.1080</td> <td>    0.009</td> <td>  -11.538</td> <td> 0.000</td> <td>   -0.126</td> <td>   -0.090</td>\n",
       "</tr>\n",
       "<tr>\n",
       "  <th>ave_unit_sqft</th>                <td>    0.8215</td> <td>    0.018</td> <td>   44.725</td> <td> 0.000</td> <td>    0.786</td> <td>    0.858</td>\n",
       "</tr>\n",
       "<tr>\n",
       "  <th>ave_income</th>                   <td>    1.3370</td> <td>    0.014</td> <td>   95.730</td> <td> 0.000</td> <td>    1.310</td> <td>    1.364</td>\n",
       "</tr>\n",
       "</table>\n",
       "<table class=\"simpletable\">\n",
       "<tr>\n",
       "  <th>Omnibus:</th>       <td>93991.517</td> <th>  Durbin-Watson:     </th>  <td>   1.798</td>  \n",
       "</tr>\n",
       "<tr>\n",
       "  <th>Prob(Omnibus):</th>  <td> 0.000</td>   <th>  Jarque-Bera (JB):  </th> <td>1065816.096</td>\n",
       "</tr>\n",
       "<tr>\n",
       "  <th>Skew:</th>           <td>-3.013</td>   <th>  Prob(JB):          </th>  <td>    0.00</td>  \n",
       "</tr>\n",
       "<tr>\n",
       "  <th>Kurtosis:</th>       <td>14.758</td>   <th>  Cond. No.          </th>  <td>1.02e+03</td>  \n",
       "</tr>\n",
       "</table>"
      ],
      "text/plain": [
       "<class 'statsmodels.iolib.summary.Summary'>\n",
       "\"\"\"\n",
       "                                    OLS Regression Results                                   \n",
       "=============================================================================================\n",
       "Dep. Variable:     np.log1p(residential_sales_price)   R-squared:                       0.411\n",
       "Model:                                           OLS   Adj. R-squared:                  0.411\n",
       "Method:                                Least Squares   F-statistic:                 1.279e+04\n",
       "Date:                               Thu, 21 Sep 2017   Prob (F-statistic):               0.00\n",
       "Time:                                       12:16:07   Log-Likelihood:            -2.2838e+05\n",
       "No. Observations:                             146526   AIC:                         4.568e+05\n",
       "Df Residuals:                                 146517   BIC:                         4.569e+05\n",
       "Df Model:                                          8                                         \n",
       "Covariance Type:                           nonrobust                                         \n",
       "================================================================================================\n",
       "                                   coef    std err          t      P>|t|      [0.025      0.975]\n",
       "------------------------------------------------------------------------------------------------\n",
       "Intercept                       -2.9433      0.152    -19.311      0.000      -3.242      -2.645\n",
       "I(year_built < 1940)[T.True]     0.1461      0.007     22.230      0.000       0.133       0.159\n",
       "I(year_built > 2005)[T.True]    -0.0679      0.043     -1.590      0.112      -0.152       0.016\n",
       "np.log1p(unit_sqft)             -1.3984      0.007   -208.558      0.000      -1.412      -1.385\n",
       "np.log1p(unit_lot_size)         -0.1791      0.006    -29.714      0.000      -0.191      -0.167\n",
       "sum_residential_units            0.0453      0.007      6.167      0.000       0.031       0.060\n",
       "ave_lot_sqft                    -0.1080      0.009    -11.538      0.000      -0.126      -0.090\n",
       "ave_unit_sqft                    0.8215      0.018     44.725      0.000       0.786       0.858\n",
       "ave_income                       1.3370      0.014     95.730      0.000       1.310       1.364\n",
       "==============================================================================\n",
       "Omnibus:                    93991.517   Durbin-Watson:                   1.798\n",
       "Prob(Omnibus):                  0.000   Jarque-Bera (JB):          1065816.096\n",
       "Skew:                          -3.013   Prob(JB):                         0.00\n",
       "Kurtosis:                      14.758   Cond. No.                     1.02e+03\n",
       "==============================================================================\n",
       "\n",
       "Warnings:\n",
       "[1] Standard Errors assume that the covariance matrix of the errors is correctly specified.\n",
       "[2] The condition number is large, 1.02e+03. This might indicate that there are\n",
       "strong multicollinearity or other numerical problems.\n",
       "\"\"\""
      ]
     },
     "execution_count": 48,
     "metadata": {},
     "output_type": "execute_result"
    }
   ],
   "source": [
    "rm.fit(merged_df).summary()"
   ]
  },
  {
   "cell_type": "markdown",
   "metadata": {},
   "source": [
    "## Predict and report"
   ]
  },
  {
   "cell_type": "code",
   "execution_count": 49,
   "metadata": {
    "collapsed": false
   },
   "outputs": [
    {
     "data": {
      "text/plain": [
       "count    1.407820e+05\n",
       "mean     9.936666e+02\n",
       "std      2.532344e+04\n",
       "min      2.450198e-03\n",
       "25%      2.776557e+02\n",
       "50%      4.080756e+02\n",
       "75%      5.891591e+02\n",
       "max      7.108075e+06\n",
       "dtype: float64"
      ]
     },
     "execution_count": 49,
     "metadata": {},
     "output_type": "execute_result"
    }
   ],
   "source": [
    "rm.predict(merged_df).describe()"
   ]
  },
  {
   "cell_type": "code",
   "execution_count": 9,
   "metadata": {
    "collapsed": false
   },
   "outputs": [],
   "source": []
  }
 ],
 "metadata": {
  "anaconda-cloud": {},
  "kernelspec": {
   "display_name": "Python [conda root]",
   "language": "python",
   "name": "conda-root-py"
  },
  "language_info": {
   "codemirror_mode": {
    "name": "ipython",
    "version": 3
   },
   "file_extension": ".py",
   "mimetype": "text/x-python",
   "name": "python",
   "nbconvert_exporter": "python",
   "pygments_lexer": "ipython3",
   "version": "3.5.2"
  }
 },
 "nbformat": 4,
 "nbformat_minor": 0
}
